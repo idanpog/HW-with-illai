{
 "cells":[
  {
   "cell_type":"code",
   "source":[
    "import numpy as np\n",
    "import pandas as pd\n",
    "import scipy\n",
    "from scipy.stats import norm, t, chi2\n",
    "import matplotlib.pyplot as plt\n",
    "from random import randint"
   ],
   "execution_count":206,
   "outputs":[
    
   ],
   "metadata":{
    "datalore":{
     "node_id":"Czls9csMB2ZuvRlsXtWV7y",
     "type":"CODE",
     "hide_input_from_viewers":true,
     "hide_output_from_viewers":true
    }
   }
  },
  {
   "cell_type":"markdown",
   "source":[
    "The categories we have chosen to consider are:\n",
    "  * Red wine\n",
    "  * White wine"
   ],
   "attachments":{
    
   },
   "metadata":{
    "datalore":{
     "node_id":"P10yLwzlFJsw7sEV0V11n0",
     "type":"MD",
     "hide_input_from_viewers":true,
     "hide_output_from_viewers":true
    }
   }
  },
  {
   "cell_type":"code",
   "source":[
    "red_wine_csv = pd.read_csv(\"\/data\/workspace_files\/Dataset\/winequality-red.csv\", sep=';')\n",
    "white_wine_csv = pd.read_csv(\"\/data\/workspace_files\/Dataset\/winequality-white.csv\", sep=';')"
   ],
   "execution_count":207,
   "outputs":[
    
   ],
   "metadata":{
    "datalore":{
     "node_id":"xACMZcAExURaxovBoNpRxG",
     "type":"CODE",
     "hide_input_from_viewers":true,
     "hide_output_from_viewers":true
    }
   }
  },
  {
   "cell_type":"markdown",
   "source":[
    "ilai avni 212778229 <br>\n",
    "idan pogrebinsky 325069565"
   ],
   "attachments":{
    
   },
   "metadata":{
    "datalore":{
     "node_id":"ShdQcQH4LDBPQpoKpyK8NZ",
     "type":"MD",
     "hide_input_from_viewers":true,
     "hide_output_from_viewers":true
    }
   }
  },
  {
   "cell_type":"markdown",
   "source":[
    "# Question 1"
   ],
   "attachments":{
    
   },
   "metadata":{
    "datalore":{
     "node_id":"ECx3RmJ5bAmq381rJyosbd",
     "type":"MD",
     "hide_input_from_viewers":true,
     "hide_output_from_viewers":true
    }
   }
  },
  {
   "cell_type":"markdown",
   "source":[
    "## a."
   ],
   "attachments":{
    
   },
   "metadata":{
    "datalore":{
     "node_id":"Mo3lEZqEQSeXPaVSyH2llW",
     "type":"MD",
     "hide_input_from_viewers":true,
     "hide_output_from_viewers":true
    }
   }
  },
  {
   "cell_type":"code",
   "source":[
    "red_pH = red_wine_csv[\"pH\"]\n",
    "white_pH = white_wine_csv[\"pH\"]\n",
    "# Compute means of pH values per category\n",
    "red_mean = red_pH.mean()\n",
    "white_mean = white_pH.mean()"
   ],
   "execution_count":208,
   "outputs":[
    
   ],
   "metadata":{
    "datalore":{
     "node_id":"REsBfxc4nuA6B30LVW4FYZ",
     "type":"CODE",
     "hide_input_from_viewers":true,
     "hide_output_from_viewers":true
    }
   }
  },
  {
   "cell_type":"code",
   "source":[
    "# Compute variance of pH values per category\n",
    "red_var = red_pH.var(ddof=0)\n",
    "white_var = white_pH.var(ddof=0)"
   ],
   "execution_count":209,
   "outputs":[
    
   ],
   "metadata":{
    "datalore":{
     "node_id":"v7iizyAdX5qDjuazNr2fp6",
     "type":"CODE",
     "hide_input_from_viewers":true,
     "hide_output_from_viewers":true
    }
   }
  },
  {
   "cell_type":"code",
   "source":[
    "print(f\"Red wine mean: {red_mean}\")\n",
    "print(f\"White wine mean: {white_mean}\")"
   ],
   "execution_count":210,
   "outputs":[
    {
     "name":"stdout",
     "text":[
      "Red wine mean: 3.3111131957473416\n",
      "White wine mean: 3.1882666394446715\n"
     ],
     "output_type":"stream"
    }
   ],
   "metadata":{
    "datalore":{
     "node_id":"pOuD4k7i1cnPHOzhN27zdF",
     "type":"CODE",
     "hide_input_from_viewers":true,
     "hide_output_from_viewers":true
    }
   }
  },
  {
   "cell_type":"markdown",
   "source":[
    "## b."
   ],
   "attachments":{
    
   },
   "metadata":{
    "datalore":{
     "node_id":"oUL4V4TIgD5sewg2j8UeDu",
     "type":"MD",
     "hide_input_from_viewers":true,
     "hide_output_from_viewers":true
    }
   }
  },
  {
   "cell_type":"code",
   "source":[
    "# Compute scores of each category\n",
    "red_score = np.sqrt(red_var\/red_pH.shape[0])\n",
    "white_score = np.sqrt(white_var\/white_pH.shape[0])\n",
    "\n",
    "# Compute confidence interval per category\n",
    "quantile = norm.ppf(0.975)\n",
    "red_low = round(red_mean - red_score * quantile, 4)\n",
    "red_high = round(red_mean + red_score * quantile, 4)\n",
    "white_low = round(white_mean - white_score * quantile, 4)\n",
    "white_high = round(white_mean + white_score * quantile, 4)"
   ],
   "execution_count":211,
   "outputs":[
    
   ],
   "metadata":{
    "datalore":{
     "node_id":"Y7BJb1kkMJ1zzs6cVY8do8",
     "type":"CODE",
     "hide_input_from_viewers":true,
     "hide_output_from_viewers":true
    }
   }
  },
  {
   "cell_type":"code",
   "source":[
    "print(f\"the red confidence interval is [{red_low}, {red_high}]\")\n",
    "print(f\"the white confidence interval is [{white_low}, {white_high}]\")"
   ],
   "execution_count":212,
   "outputs":[
    {
     "name":"stdout",
     "text":[
      "the red confidence interval is [3.3035, 3.3187]\n",
      "the white confidence interval is [3.184, 3.1925]\n"
     ],
     "output_type":"stream"
    }
   ],
   "metadata":{
    "datalore":{
     "node_id":"itSzFCUUBvuKkyVZCZ7VgG",
     "type":"CODE",
     "hide_input_from_viewers":true,
     "hide_output_from_viewers":true
    }
   }
  },
  {
   "cell_type":"markdown",
   "source":[
    "\n",
    "The reason we can make such an assumption is that the average is a sum of i.i.d random variables ($\\frac{1}{n}X_i$) therefor by CLT the distrebution of the mean approaches the normal distrebution with the given parameters."
   ],
   "attachments":{
    
   },
   "metadata":{
    "datalore":{
     "node_id":"AV6RhT9eD5OURggv7WvBUY",
     "type":"MD",
     "hide_input_from_viewers":true,
     "hide_output_from_viewers":true
    }
   }
  },
  {
   "cell_type":"markdown",
   "source":[
    "# c.\n",
    "The confidence intervals don't overlap, so we can say with 95% confidence that the average is different.\n",
    "Thus conclude that they are different."
   ],
   "attachments":{
    
   },
   "metadata":{
    "datalore":{
     "node_id":"UuH3l4h2A1OV9NcWFDgoHI",
     "type":"MD",
     "hide_input_from_viewers":true,
     "hide_output_from_viewers":true
    }
   }
  },
  {
   "cell_type":"markdown",
   "source":[
    "# Question 2"
   ],
   "attachments":{
    
   },
   "metadata":{
    "datalore":{
     "node_id":"YkUX0OSJP2rb8QfHbsypKs",
     "type":"MD",
     "hide_input_from_viewers":true,
     "hide_output_from_viewers":true
    }
   }
  },
  {
   "cell_type":"markdown",
   "source":[
    "## a. "
   ],
   "attachments":{
    
   },
   "metadata":{
    "datalore":{
     "node_id":"qZ5HHT5FO7uJYaGyccxsC4",
     "type":"MD",
     "hide_input_from_viewers":true,
     "hide_output_from_viewers":true
    }
   }
  },
  {
   "cell_type":"markdown",
   "source":[
    "Our hypothesis is as follows:\n",
    "- $H_0: \\bar{X}_{red} = \\bar{X}_{white}$\n",
    "- $H_1: \\bar{X}_{red} \\neq \\bar{X}_{white}$"
   ],
   "attachments":{
    
   },
   "metadata":{
    "datalore":{
     "node_id":"1w4Nymmk8r9ZBGt9EVH32y",
     "type":"MD",
     "hide_input_from_viewers":true,
     "hide_output_from_viewers":true
    }
   }
  },
  {
   "cell_type":"markdown",
   "source":[
    "## b."
   ],
   "attachments":{
    
   },
   "metadata":{
    "datalore":{
     "node_id":"si32NsTd9CrztJWDDLff8Y",
     "type":"MD",
     "hide_input_from_viewers":true,
     "hide_output_from_viewers":true
    }
   }
  },
  {
   "cell_type":"code",
   "source":[
    "fig, ax = plt.subplots(1, 2)\n",
    "ax[0].title.set_text(\"Red\")\n",
    "red_pH.hist(bins=10, ax=ax[0], legend=True)\n",
    "ax[1].title.set_text(\"White\")\n",
    "white_pH.hist(bins=10, ax=ax[1], legend=True)"
   ],
   "execution_count":213,
   "outputs":[
    {
     "data":{
      "text\/plain":[
       "<AxesSubplot:title={'center':'White'}>"
      ]
     },
     "metadata":{
      
     },
     "output_type":"display_data"
    },
    {
     "data":{
      "image\/png":"[encoded data removed]"
     },
     "metadata":{
      "image\/png":{
       
      }
     },
     "output_type":"display_data"
    }
   ],
   "metadata":{
    "datalore":{
     "node_id":"ir3rqykOwhUlViTiOHfKAx",
     "type":"CODE",
     "hide_input_from_viewers":true,
     "hide_output_from_viewers":true
    }
   }
  },
  {
   "cell_type":"markdown",
   "source":[
    "As we can see, both categories are distributed approximately normally.\n",
    "Next, we perform F-test to check whether the variance of the categories are the same."
   ],
   "attachments":{
    
   },
   "metadata":{
    "datalore":{
     "node_id":"zkUqmHqlGUhV6UmqmyswkG",
     "type":"MD",
     "hide_input_from_viewers":true,
     "hide_output_from_viewers":true
    }
   }
  },
  {
   "cell_type":"code",
   "source":[
    "f = red_pH.var() \/ white_pH.var()\n",
    "red_num = red_pH.size-1 #define degrees of freedom numerator \n",
    "white_num = white_pH.size-1 #define degrees of freedom denominator \n",
    "p = 1-scipy.stats.f.cdf(f, red_num, white_num) #find p-value of F test statistic \n",
    "print(p)"
   ],
   "execution_count":214,
   "outputs":[
    {
     "name":"stdout",
     "text":[
      "0.13579391895268\n"
     ],
     "output_type":"stream"
    }
   ],
   "metadata":{
    "datalore":{
     "node_id":"dv0t1t6tASM8xzEdY6QhYn",
     "type":"CODE",
     "hide_input_from_viewers":true,
     "hide_output_from_viewers":true
    }
   }
  },
  {
   "cell_type":"markdown",
   "source":[
    "The p-value is greater than 0.05, therefore we accept the null hypothesis of the F-test and conclude that the variances of both categories are equal.\n",
    "<br>\n",
    "Now all requirements for the T-test have been met."
   ],
   "attachments":{
    
   },
   "metadata":{
    "datalore":{
     "node_id":"qqEywhLQHYSOg9710sKWgU",
     "type":"MD",
     "hide_input_from_viewers":true,
     "hide_output_from_viewers":true
    }
   }
  },
  {
   "cell_type":"markdown",
   "source":[
    "## c."
   ],
   "attachments":{
    
   },
   "metadata":{
    "datalore":{
     "node_id":"lSnWcYxNo5niKW2ajkuyuT",
     "type":"MD",
     "hide_input_from_viewers":true,
     "hide_output_from_viewers":true
    }
   }
  },
  {
   "cell_type":"code",
   "source":[
    "\n",
    "S = np.sqrt((red_num*red_pH.var() + white_num*white_pH.var()) \/ (red_num + white_num))\n",
    "T = (red_mean - white_mean) \/ (S * np.sqrt(1\/(red_num + 1) + 1\/(white_num + 1)))\n",
    "t_quantile = norm.ppf(0.975)\n",
    "print((np.abs(T) > t_quantile))"
   ],
   "execution_count":215,
   "outputs":[
    {
     "name":"stdout",
     "text":[
      "True\n"
     ],
     "output_type":"stream"
    }
   ],
   "metadata":{
    "datalore":{
     "node_id":"Z1gxiZmOgVBttOoVvCktW5",
     "type":"CODE",
     "hide_input_from_viewers":true,
     "hide_output_from_viewers":true
    }
   }
  },
  {
   "cell_type":"markdown",
   "source":[
    "From the result of the t-test we conclude that the means of the red and white pH values are different."
   ],
   "attachments":{
    
   },
   "metadata":{
    "datalore":{
     "node_id":"lIyV2pY1YJrJsk1XJtAht8",
     "type":"MD",
     "hide_input_from_viewers":true,
     "hide_output_from_viewers":true
    }
   }
  },
  {
   "cell_type":"markdown",
   "source":[
    "## d."
   ],
   "attachments":{
    
   },
   "metadata":{
    "datalore":{
     "node_id":"FCxeAMMwSONfdELhPquQOs",
     "type":"MD",
     "hide_input_from_viewers":true,
     "hide_output_from_viewers":true
    }
   }
  },
  {
   "cell_type":"code",
   "source":[
    "se = red_var\/red_pH.shape[0] + white_var\/white_pH.shape[0]\n",
    "w = (red_mean - white_mean)\/np.sqrt(se)\n",
    "norm_quant = norm.ppf(0.975)\n",
    "print((np.abs(w) <= norm_quant))"
   ],
   "execution_count":216,
   "outputs":[
    {
     "name":"stdout",
     "text":[
      "False\n"
     ],
     "output_type":"stream"
    }
   ],
   "metadata":{
    "datalore":{
     "node_id":"ZUt3ngRVfuDIKct90QlLj8",
     "type":"CODE",
     "hide_input_from_viewers":true,
     "hide_output_from_viewers":true
    }
   }
  },
  {
   "cell_type":"markdown",
   "source":[
    "from the Wald test we conclude that the means of the red and white pH values aren't different.\n",
    "thus the null hypothesis still holds."
   ],
   "attachments":{
    
   },
   "metadata":{
    "datalore":{
     "node_id":"C71SIyq98VnA5Pufgvow47",
     "type":"MD",
     "hide_input_from_viewers":true,
     "hide_output_from_viewers":true
    }
   }
  },
  {
   "cell_type":"markdown",
   "source":[
    "## e."
   ],
   "attachments":{
    
   },
   "metadata":{
    "datalore":{
     "node_id":"LYxAUFMdh3yO1qGWJtRlYU",
     "type":"MD",
     "hide_input_from_viewers":true,
     "hide_output_from_viewers":true
    }
   }
  },
  {
   "cell_type":"code",
   "source":[
    "if w > 0:\n",
    "    pw = 1 - norm.cdf(w) + norm.cdf(-w)\n",
    "else:\n",
    "    pw = 1 - norm.cdf(-w) + norm.cdf(w)\n",
    "\n",
    "if T > 0:\n",
    "    pt = 1 - t.cdf(T, red_num+white_num-2) + t.cdf(-T, red_num+white_num-2)\n",
    "else:\n",
    "    pt = 1 - t.cdf(-T, red_num+white_num-2) + t.cdf(T, red_num+white_num-2)\n",
    "\n",
    "pf = 1-scipy.stats.f.cdf(f, red_num, white_num)\n",
    "\n",
    "print(f\"The p-values of\\tT-test {pt}\\tF-test {pf}\\tW-test {pw}\")\n",
    "print(f\"The values of  \\tT-test {round(T,3)}\\tF-test {round(f,3)}\\tW-test {round(f,3)}\\t\")"
   ],
   "execution_count":222,
   "outputs":[
    {
     "name":"stdout",
     "text":[
      "The p-values of\tT-test 2.98051174707851e-164\tF-test 0.13579391895268\tW-test 3.500935319182937e-170\n",
      "The values of  \tT-test 28.09\tF-test 1.045\tW-test 1.045\t\n"
     ],
     "output_type":"stream"
    }
   ],
   "metadata":{
    "datalore":{
     "node_id":"T8r8gGx35QYnzpKL3Cq8Sa",
     "type":"CODE",
     "hide_input_from_viewers":true,
     "hide_output_from_viewers":true
    }
   }
  },
  {
   "cell_type":"markdown",
   "source":[
    "## f."
   ],
   "attachments":{
    
   },
   "metadata":{
    "datalore":{
     "node_id":"UkzmMGqHN1e45ul5F16VTK",
     "type":"MD",
     "hide_input_from_viewers":true,
     "hide_output_from_viewers":true
    }
   }
  },
  {
   "cell_type":"code",
   "source":[
    "red_likelihood, white_likelihood = 0, 0\n",
    "for x in red_pH:\n",
    "    red_likelihood += np.log(norm.pdf(x, loc=red_mean, scale=S))\n",
    "for x in white_pH:\n",
    "    white_likelihood += np.log(norm.pdf(x, loc=white_mean, scale=S))\n",
    "log_likelihood = red_likelihood + white_likelihood\n",
    "\n",
    "total_log_likelihood = 0\n",
    "all_pH = red_pH.append(white_pH, ignore_index=True)\n",
    "for x in all_pH:\n",
    "    total_log_likelihood += norm.pdf(x, loc=all_pH.mean(), scale=all_pH.std())\n",
    "\n",
    "gamma = 2 * (log_likelihood - total_log_likelihood)\n",
    "chi2_quantile = chi2.ppf(0.975, df=1)\n",
    "print(np.abs(gamma) > chi2_quantile)"
   ],
   "execution_count":129,
   "outputs":[
    {
     "name":"stdout",
     "text":[
      "True\n"
     ],
     "output_type":"stream"
    }
   ],
   "metadata":{
    "datalore":{
     "node_id":"OwqwYkxpWudXz44J3mHItL",
     "type":"CODE",
     "hide_input_from_viewers":true,
     "hide_output_from_viewers":true
    }
   }
  },
  {
   "cell_type":"markdown",
   "source":[
    "We conclude from the log-likelihood ratio test that the means are different."
   ],
   "attachments":{
    
   },
   "metadata":{
    "datalore":{
     "node_id":"eVJArfAtgAogMPkHv8Z8a8",
     "type":"MD",
     "hide_input_from_viewers":true,
     "hide_output_from_viewers":true
    }
   }
  },
  {
   "cell_type":"markdown",
   "source":[
    "# Question 3"
   ],
   "attachments":{
    
   },
   "metadata":{
    "datalore":{
     "node_id":"f45Qxk5JVf6OIGJY0EZfbd",
     "type":"MD",
     "hide_input_from_viewers":true,
     "hide_output_from_viewers":true
    }
   }
  },
  {
   "cell_type":"markdown",
   "source":[
    "## a, b."
   ],
   "attachments":{
    
   },
   "metadata":{
    "datalore":{
     "node_id":"3rCozJrbp71Nfc4xVe8PO9",
     "type":"MD",
     "hide_input_from_viewers":true,
     "hide_output_from_viewers":true
    }
   }
  },
  {
   "cell_type":"code",
   "source":[
    "def conf_interval(samples, quantile):\n",
    "    # Compute mean and variance\n",
    "    mean, var = samples.mean(), samples.var(ddof=0)\n",
    "    # Compute scores\n",
    "    score = np.sqrt(var\/samples.shape[0])\n",
    "    # Compute confidence interval\n",
    "    quantile = norm.ppf(0.975)\n",
    "    low = mean - score * quantile\n",
    "    high = mean + score * quantile\n",
    "    return round(low, 4), round(high, 4)"
   ],
   "execution_count":130,
   "outputs":[
    
   ],
   "metadata":{
    "datalore":{
     "node_id":"ddWCP22hylMdBqTYaIAt1l",
     "type":"CODE",
     "hide_input_from_viewers":true,
     "hide_output_from_viewers":true
    }
   }
  },
  {
   "cell_type":"code",
   "source":[
    "print(f\"All samples confidence interval for red category: {red_low, red_high}\")\n",
    "for num in [30, 50, 100, 500]:\n",
    "    red_samples = red_pH.sample(num)\n",
    "    print(f\"Confidence interval from {num} samples: {conf_interval(red_samples, quantile)}\")\n",
    "print(f\"All samples confidence interval for white category: {white_low, white_high}\")\n",
    "for num in [30, 50, 100, 500]:\n",
    "    white_samples = white_pH.sample(num)\n",
    "    print(f\"Confidence interval from {num} samples: {conf_interval(white_samples, quantile)}\")"
   ],
   "execution_count":132,
   "outputs":[
    {
     "name":"stdout",
     "text":[
      "All samples confidence interval for red category: (3.3035, 3.3187)\n",
      "Confidence interval from 30 samples: (3.2763, 3.3943)\n",
      "Confidence interval from 50 samples: (3.2567, 3.3361)\n",
      "Confidence interval from 100 samples: (3.2869, 3.3495)\n",
      "Confidence interval from 500 samples: (3.2887, 3.3149)\n",
      "All samples confidence interval for white category: (3.184, 3.1925)\n",
      "Confidence interval from 30 samples: (3.0896, 3.2177)\n",
      "Confidence interval from 50 samples: (3.158, 3.2304)\n",
      "Confidence interval from 100 samples: (3.1394, 3.2)\n",
      "Confidence interval from 500 samples: (3.1784, 3.2036)\n"
     ],
     "output_type":"stream"
    }
   ],
   "metadata":{
    "datalore":{
     "node_id":"4G9I9kjCN3IaJPszhfUK0C",
     "type":"CODE",
     "hide_input_from_viewers":true,
     "hide_output_from_viewers":true
    }
   }
  },
  {
   "cell_type":"markdown",
   "source":[
    "## c."
   ],
   "attachments":{
    
   },
   "metadata":{
    "datalore":{
     "node_id":"RDyCRvxlNQmu6zbvPllfW8",
     "type":"MD",
     "hide_input_from_viewers":true,
     "hide_output_from_viewers":true
    }
   }
  },
  {
   "cell_type":"code",
   "source":[
    "def wald_test(red_samples, white_samples):\n",
    "    se = red_samples.var()\/red_samples.shape[0] + white_samples.var()\/white_samples.shape[0]\n",
    "    w = (red_samples.mean() - white_samples.mean())\/np.sqrt(se)\n",
    "    norm_quant = norm.ppf(0.975)\n",
    "    if w > 0:\n",
    "        p = 1 - norm.cdf(w) + norm.cdf(-w)\n",
    "    else:\n",
    "        p = 1 - norm.cdf(-w) + norm.cdf(w)\n",
    "    return np.abs(w) <= norm_quant, p"
   ],
   "execution_count":164,
   "outputs":[
    
   ],
   "metadata":{
    "datalore":{
     "node_id":"zRdmCyFXKq6pZRNskm2aY5",
     "type":"CODE",
     "hide_input_from_viewers":true,
     "hide_output_from_viewers":true
    }
   }
  },
  {
   "cell_type":"code",
   "source":[
    "print(\"Wald test result on all samples: False\")\n",
    "for red_num in [30, 50, 100, 500]:\n",
    "    for white_num in [30, 50, 100, 500]:\n",
    "        red_samples = red_pH.sample(red_num)\n",
    "        white_samples = white_pH.sample(white_num)\n",
    "        accept_null, p = wald_test(red_samples, white_samples)\n",
    "        \n",
    "        print(f\"Wald test result for {red_num} red samples and {white_num} white samples: {accept_null}\")"
   ],
   "execution_count":165,
   "outputs":[
    {
     "name":"stdout",
     "text":[
      "Wald test result on all samples: False\n",
      "Wald test result for 30 red samples and 30 white samples: False\n",
      "Wald test result for 30 red samples and 50 white samples: False\n",
      "Wald test result for 30 red samples and 100 white samples: False\n",
      "Wald test result for 30 red samples and 500 white samples: False\n",
      "Wald test result for 50 red samples and 30 white samples: False\n",
      "Wald test result for 50 red samples and 50 white samples: False\n",
      "Wald test result for 50 red samples and 100 white samples: False\n",
      "Wald test result for 50 red samples and 500 white samples: False\n",
      "Wald test result for 100 red samples and 30 white samples: False\n",
      "Wald test result for 100 red samples and 50 white samples: False\n",
      "Wald test result for 100 red samples and 100 white samples: False\n",
      "Wald test result for 100 red samples and 500 white samples: False\n",
      "Wald test result for 500 red samples and 30 white samples: False\n",
      "Wald test result for 500 red samples and 50 white samples: False\n",
      "Wald test result for 500 red samples and 100 white samples: False\n",
      "Wald test result for 500 red samples and 500 white samples: False\n"
     ],
     "output_type":"stream"
    }
   ],
   "metadata":{
    "datalore":{
     "node_id":"Uq7YdAPkJ5Zh1ZSo3SOvo3",
     "type":"CODE",
     "hide_input_from_viewers":true,
     "hide_output_from_viewers":true
    }
   }
  },
  {
   "cell_type":"markdown",
   "source":[
    "## d."
   ],
   "attachments":{
    
   },
   "metadata":{
    "datalore":{
     "node_id":"54AGw9Kqqe1ozslJ10IX5l",
     "type":"MD",
     "hide_input_from_viewers":true,
     "hide_output_from_viewers":true
    }
   }
  },
  {
   "cell_type":"code",
   "source":[
    "print(red_pH.shape[0])\n",
    "print(white_pH.shape[0])"
   ],
   "execution_count":172,
   "outputs":[
    {
     "name":"stdout",
     "text":[
      "1599\n",
      "4898\n"
     ],
     "output_type":"stream"
    }
   ],
   "metadata":{
    "datalore":{
     "node_id":"7ppWqeVTHC4RmVujnNXhvT",
     "type":"CODE",
     "hide_input_from_viewers":true,
     "hide_output_from_viewers":true
    }
   }
  },
  {
   "cell_type":"code",
   "source":[
    "# num_samples = np.arange(1001)\n",
    "p_values = []\n",
    "r_conf_int_sizes = []\n",
    "w_conf_int_sizes = []\n",
    "num_samples = [60, 80, 100, 130, 150, 200, 530, 550, 600, 1000]\n",
    "\n",
    "for _ in range(100):\n",
    "    temp = {}\n",
    "    for num in [30, 50, 100, 500]:\n",
    "        red_samples = red_pH.sample(num)\n",
    "        low, high = conf_interval(red_samples, quantile)\n",
    "        temp[num] = high - low\n",
    "        # r_conf_int_sizes[num] = high - low\n",
    "    r_conf_int_sizes.append(temp)\n",
    "    temp = {}\n",
    "    for num in [30, 50, 100, 500]:\n",
    "        white_samples = white_pH.sample(num)\n",
    "        low, high = conf_interval(white_samples, quantile)\n",
    "        temp[num] = high - low\n",
    "        # w_conf_int_sizes[num] = high - low\n",
    "    w_conf_int_sizes.append(temp)\n",
    "    temp = {}\n",
    "    for num in [30, 50, 100, 500]:\n",
    "        red = randint(1, num - 1)\n",
    "        red_samples = red_pH.sample(red)\n",
    "        white_samples = white_pH.sample(num - red)\n",
    "        accept_null, p = wald_test(red_samples, white_samples)\n",
    "        # p_values[red_num + white_num] = np.log(p)\n",
    "        temp[num] = p\n",
    "    p_values.append(temp)\n",
    "\n",
    "p_values = pd.DataFrame(p_values)\n",
    "r_conf_int_sizes = pd.DataFrame(r_conf_int_sizes)\n",
    "w_conf_int_sizes = pd.DataFrame(w_conf_int_sizes)\n",
    "    "
   ],
   "execution_count":174,
   "outputs":[
    {
     "data":{
      "image\/png":"[encoded data removed]"
     },
     "metadata":{
      "image\/png":{
       
      }
     },
     "output_type":"display_data"
    }
   ],
   "metadata":{
    "datalore":{
     "node_id":"zNGHPwC5OQrdrLxQy20fdb",
     "type":"CODE",
     "hide_input_from_viewers":true,
     "hide_output_from_viewers":true
    }
   }
  },
  {
   "cell_type":"code",
   "source":[
    "plt.rcParams[\"figure.figsize\"] = [17.50, 6.50]\n",
    "\n",
    "fig, ax = plt.subplots(1, 3)\n",
    "\n",
    "\n",
    "ax[0].set_title(\"P-value\", fontsize=22, color='Red')\n",
    "ax[0].set_xlabel(\"Sample Size\", fontsize=18, color='White')\n",
    "ax[0].set_ylabel(\"p-value\", fontsize=18, color='White')\n",
    "p_val_box = p_values.boxplot([30, 50, 100, 500], ax=ax[0])\n",
    "ax[1].set_ylabel(\"Confidence Interval Size\", fontsize=18, color='White')\n",
    "ax[1].set_xlabel(\"Sample Size\", fontsize=18, color='White')\n",
    "ax[1].set_title(\"Red wine confidence interval sizes\", fontsize=22, color=\"Red\")\n",
    "r_conf_box = r_conf_int_sizes.boxplot([30, 50, 100, 500], ax=ax[1])\n",
    "ax[2].set_ylabel(\"Confidence Interval Size\", fontsize=18, color='White')\n",
    "ax[2].set_xlabel(\"Sample Size\", fontsize=18, color='White')\n",
    "ax[2].set_title(\"White wine confidence interval sizes\", fontsize=22, color=\"Red\")\n",
    "w_conf_box = w_conf_int_sizes.boxplot([30, 50, 100, 500], ax=ax[2])\n",
    "plt.tight_layout()\n",
    "plt.show()\n",
    "\n"
   ],
   "execution_count":198,
   "outputs":[
    {
     "data":{
      "image\/png":"[encoded data removed]"
     },
     "metadata":{
      "image\/png":{
       
      }
     },
     "output_type":"display_data"
    }
   ],
   "metadata":{
    "datalore":{
     "node_id":"9f6WlKDAkEKWgkGD87mre1",
     "type":"CODE",
     "hide_input_from_viewers":true,
     "hide_output_from_viewers":true
    }
   }
  }
 ],
 "metadata":{
  "kernelspec":{
   "display_name":"Python",
   "language":"python",
   "name":"python"
  },
  "datalore":{
   "version":1,
   "computation_mode":"JUPYTER",
   "package_manager":"pip",
   "base_environment":"default",
   "packages":[
    
   ]
  }
 },
 "nbformat":4,
 "nbformat_minor":4
}