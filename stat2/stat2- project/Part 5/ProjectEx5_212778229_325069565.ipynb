{
 "cells":[
  {
   "cell_type":"code",
   "source":[
    "import numpy as np\n",
    "import matplotlib.pyplot as plt\n",
    "import seaborn as sb\n",
    "import pandas as pd\n",
    "from scipy.stats import beta, bernoulli\n",
    "import warnings\n",
    "from sklearn.linear_model import LogisticRegression, LinearRegression"
   ],
   "execution_count":223,
   "outputs":[
    
   ],
   "metadata":{
    "datalore":{
     "node_id":"YV5qr273FPduv2rCgIkB1i",
     "type":"CODE",
     "hide_input_from_viewers":false,
     "hide_output_from_viewers":false
    }
   }
  },
  {
   "cell_type":"code",
   "source":[
    "B = 400\n",
    "alpha = 0.05\n",
    "seed = 212778229\n",
    "np.random.seed(seed=seed)\n",
    "warnings.filterwarnings('ignore')"
   ],
   "execution_count":224,
   "outputs":[
    
   ],
   "metadata":{
    "datalore":{
     "node_id":"VmnBFHsTQmL0U0KIx95dQy",
     "type":"CODE",
     "hide_input_from_viewers":false,
     "hide_output_from_viewers":false
    }
   }
  },
  {
   "cell_type":"markdown",
   "source":[
    "# Part A - Bayesian "
   ],
   "attachments":{
    
   },
   "metadata":{
    "datalore":{
     "node_id":"CPjierGQjDJScykIFchk1v",
     "type":"MD",
     "hide_input_from_viewers":false,
     "hide_output_from_viewers":false
    }
   }
  },
  {
   "cell_type":"markdown",
   "source":[
    "As in Project 2, we will define $X$ to be 'pH' and $Y$ to be the color of the wine."
   ],
   "attachments":{
    
   },
   "metadata":{
    "datalore":{
     "node_id":"plS6iyHFflObJSamKcLfzb",
     "type":"MD",
     "hide_input_from_viewers":false,
     "hide_output_from_viewers":false
    }
   }
  },
  {
   "cell_type":"markdown",
   "source":[
    "## Question 1:"
   ],
   "attachments":{
    
   },
   "metadata":{
    "datalore":{
     "node_id":"HOG78hFLiXScU8HVwPLQvg",
     "type":"MD",
     "hide_input_from_viewers":false,
     "hide_output_from_viewers":false
    }
   }
  },
  {
   "cell_type":"code",
   "source":[
    "# Load dataset\n",
    "red_wine_df = pd.read_csv(\"\/data\/workspace_files\/Dataset\/winequality-red.csv\", sep=';')\n",
    "red_wine_df.insert(2, \"color\", 0, True)\n",
    "white_wine_df = pd.read_csv(\"\/data\/workspace_files\/Dataset\/winequality-white.csv\", sep=';')\n",
    "white_wine_df.insert(2, \"color\", 1, True)\n",
    "\n",
    "total_wine_df = pd.concat([red_wine_df, white_wine_df], ignore_index=True)\n",
    "# Randomly sample 200 instances\n",
    "samples = total_wine_df.sample(200, ignore_index=True, random_state=seed)[['volatile acidity', 'free sulfur dioxide',\\\n",
    "'quality', 'pH', 'color']]\n",
    "filtered = pd.concat([total_wine_df,samples]).drop_duplicates(keep=False)\n",
    "past_samples = filtered.sample(1000, ignore_index=True, random_state=seed)"
   ],
   "execution_count":225,
   "outputs":[
    
   ],
   "metadata":{
    "datalore":{
     "node_id":"40sS5xwPa1wElfPWk3sZZk",
     "type":"CODE",
     "hide_input_from_viewers":false,
     "hide_output_from_viewers":false
    }
   }
  },
  {
   "cell_type":"markdown",
   "source":[
    "## Question 2:"
   ],
   "attachments":{
    
   },
   "metadata":{
    "datalore":{
     "node_id":"A8ox7HvG2GMyPYRPAf68g8",
     "type":"MD",
     "hide_input_from_viewers":false,
     "hide_output_from_viewers":false
    }
   }
  },
  {
   "cell_type":"markdown",
   "source":[
    "### (a)"
   ],
   "attachments":{
    
   },
   "metadata":{
    "datalore":{
     "node_id":"7qZzrNnHVnbTa9F9YLWep7",
     "type":"MD",
     "hide_input_from_viewers":false,
     "hide_output_from_viewers":false
    }
   }
  },
  {
   "cell_type":"code",
   "source":[
    "tau = samples.pH.median()"
   ],
   "execution_count":226,
   "outputs":[
    
   ],
   "metadata":{
    "datalore":{
     "node_id":"EkUdLuLP9srWjbuQNhdYS4",
     "type":"CODE",
     "hide_input_from_viewers":false,
     "hide_output_from_viewers":false
    }
   }
  },
  {
   "cell_type":"code",
   "source":[
    "def log_odds_estim(sample_data):\n",
    "    # Split into categories\n",
    "    reds = sample_data[sample_data.color == 0].pH\n",
    "    whites = sample_data[sample_data.color == 1].pH\n",
    "    # Calculate probabilities\n",
    "    p1 = reds[reds > tau].count() \/ reds.shape[0]\n",
    "    p2 = whites[whites <= tau].count() \/ whites.shape[0]\n",
    "    # Calculate log-odds for each category\n",
    "    log_odds_1 = np.log(p1 \/ (1 - p1))\n",
    "    log_odds_2 = np.log(p2 \/ (1 - p2))\n",
    "\n",
    "    psi = log_odds_1 - log_odds_2\n",
    "    return psi"
   ],
   "execution_count":227,
   "outputs":[
    
   ],
   "metadata":{
    "datalore":{
     "node_id":"ECeU4gFLjySJp9t4xoOuZP",
     "type":"CODE",
     "hide_input_from_viewers":false,
     "hide_output_from_viewers":false
    }
   }
  },
  {
   "cell_type":"code",
   "source":[
    "sample_psi = log_odds_estim(samples)\n",
    "\n",
    "psis = np.zeros(B)\n",
    "\n",
    "# Calculate quantile-based confidence interval\n",
    "for i in range(B):\n",
    "    boot_samples = samples.sample(200, ignore_index=True, replace=True, random_state=seed+i)[['pH', 'color']]\n",
    "    psis[i] = log_odds_estim(boot_samples)\n",
    "\n",
    "low = np.quantile(psis, 0.025, axis=0)\n",
    "high = np.quantile(psis, 0.975, axis=0)\n",
    "\n",
    "print(f\"Original sample psi: {sample_psi}\")\n",
    "\n",
    "print(f\"Psi confidence interval: {[low, high]}\")"
   ],
   "execution_count":228,
   "outputs":[
    {
     "name":"stdout",
     "text":[
      "Original sample psi: 0.6843674929078997\n",
      "Psi confidence interval: [-0.04264356627739888, 1.337607207331962]\n"
     ],
     "output_type":"stream"
    }
   ],
   "metadata":{
    "datalore":{
     "node_id":"MWLyBTQIXL11FbGVgawpFE",
     "type":"CODE",
     "hide_input_from_viewers":false,
     "hide_output_from_viewers":false
    }
   }
  },
  {
   "cell_type":"markdown",
   "source":[
    "### (b)"
   ],
   "attachments":{
    
   },
   "metadata":{
    "datalore":{
     "node_id":"HFpyBT4oZfaE1orajjHFRV",
     "type":"MD",
     "hide_input_from_viewers":false,
     "hide_output_from_viewers":false
    }
   }
  },
  {
   "cell_type":"code",
   "source":[
    "# Split into categories\n",
    "reds = samples[samples.color == 0].pH\n",
    "whites = samples[samples.color == 1].pH\n",
    "\n",
    "n1 = reds.shape[0]\n",
    "n2 = whites.shape[0]\n",
    "\n",
    "s1 = reds[reds > tau].shape[0]\n",
    "s2 = whites[whites > tau].shape[0]\n",
    "\n",
    "p1_arr = np.random.beta(a=s1+1, b=n1-s1+1, size=B)\n",
    "p2_arr = np.random.beta(a=s2+1, b=n2-s2+1, size=B)\n",
    "\n",
    "eta_1s = np.log(p1_arr \/ (1 - p1_arr))\n",
    "eta_2s = np.log(p2_arr \/ (1 - p2_arr))\n",
    "\n",
    "psis = eta_1s - eta_2s\n",
    "# psi_hat = np.histogram(psis).max()\n",
    "\n",
    "psi_df = pd.DataFrame(psis)\n",
    "# Plot histogram of psi values as calculated in Example 11.4 in the book\n",
    "psi_df.hist()"
   ],
   "execution_count":229,
   "outputs":[
    {
     "data":{
      "text\/html":[
       "<pre>array([[%lt;AxesSubplot:title={'center':'0'}%gt;]], dtype=object)<\/pre>"
      ]
     },
     "metadata":{
      
     },
     "output_type":"display_data"
    },
    {
     "data":{
      "image\/png":"[encoded data removed]"
     },
     "metadata":{
      "image\/png":{
       
      }
     },
     "output_type":"display_data"
    }
   ],
   "metadata":{
    "datalore":{
     "node_id":"19ujjVxL5XQQmUvK7L1Y7c",
     "type":"CODE",
     "hide_input_from_viewers":false,
     "hide_output_from_viewers":false
    }
   }
  },
  {
   "cell_type":"markdown",
   "source":[
    "As we can see, the maximum of the estimated posterior distribution occurs when $\\widehat\\psi \\approx 1.25$."
   ],
   "attachments":{
    
   },
   "metadata":{
    "datalore":{
     "node_id":"P9kjhxg7oA5t5knDm7pwSI",
     "type":"MD",
     "hide_input_from_viewers":false,
     "hide_output_from_viewers":false
    }
   }
  },
  {
   "cell_type":"code",
   "source":[
    "# Calculate credible interval based on quantiles of the estimated psis\n",
    "low = np.quantile(psis, 0.025, axis=0)\n",
    "high = np.quantile(psis, 0.975, axis=0)\n",
    "\n",
    "print(f\"Credible interval for psi: {[low, high]}\")"
   ],
   "execution_count":230,
   "outputs":[
    {
     "name":"stdout",
     "text":[
      "Credible interval for psi: [0.6458465956334876, 2.0340829310908033]\n"
     ],
     "output_type":"stream"
    }
   ],
   "metadata":{
    "datalore":{
     "node_id":"1kObBxE7gfE8yjpiBrMcE5",
     "type":"CODE",
     "hide_input_from_viewers":false,
     "hide_output_from_viewers":false
    }
   }
  },
  {
   "cell_type":"markdown",
   "source":[
    "### (c)"
   ],
   "attachments":{
    
   },
   "metadata":{
    "datalore":{
     "node_id":"3xZC0N03IMtV04uYSG4M4z",
     "type":"MD",
     "hide_input_from_viewers":false,
     "hide_output_from_viewers":false
    }
   }
  },
  {
   "cell_type":"code",
   "source":[
    "jeff_priors_1 = np.random.beta(a=s1+0.5, b=n1-s1+0.5, size=B)\n",
    "jeff_priors_2 = np.random.beta(a=s2+0.5, b=n2-s2+0.5, size=B)\n",
    "\n",
    "eta_1s = np.log(jeff_priors_1 \/ (1 - jeff_priors_1))\n",
    "eta_2s = np.log(jeff_priors_2 \/ (1 - jeff_priors_2))\n",
    "\n",
    "psis = eta_1s - eta_2s\n",
    "# psi_hat = np.histogram(psis).max()\n",
    "\n",
    "psi_df = pd.DataFrame(psis)\n",
    "# Plot histogram of psi values as calculated in Example 11.4 in the book\n",
    "psi_df.hist()"
   ],
   "execution_count":231,
   "outputs":[
    {
     "data":{
      "text\/html":[
       "<pre>array([[%lt;AxesSubplot:title={'center':'0'}%gt;]], dtype=object)<\/pre>"
      ]
     },
     "metadata":{
      
     },
     "output_type":"display_data"
    },
    {
     "data":{
      "image\/png":"[encoded data removed]"
     },
     "metadata":{
      "image\/png":{
       
      }
     },
     "output_type":"display_data"
    }
   ],
   "metadata":{
    "datalore":{
     "node_id":"vARfQRXYWMtJlLGuP0DQri",
     "type":"CODE",
     "hide_input_from_viewers":false,
     "hide_output_from_viewers":false
    }
   }
  },
  {
   "cell_type":"markdown",
   "source":[
    "As we can see, the maximum of the estimated posterior distribution occurs when $\\widehat\\psi \\approx 1.25$."
   ],
   "attachments":{
    
   },
   "metadata":{
    "datalore":{
     "node_id":"FwhE2zdshIxAGRxxxFgY3T",
     "type":"MD",
     "hide_input_from_viewers":false,
     "hide_output_from_viewers":false
    }
   }
  },
  {
   "cell_type":"code",
   "source":[
    "# Calculate credible interval based on quantiles of the estimated psis\n",
    "low = np.quantile(psis, 0.025, axis=0)\n",
    "high = np.quantile(psis, 0.975, axis=0)\n",
    "\n",
    "print(f\"Credible interval for psi: {[low, high]}\")"
   ],
   "execution_count":232,
   "outputs":[
    {
     "name":"stdout",
     "text":[
      "Credible interval for psi: [0.6907958778249453, 2.025643720137554]\n"
     ],
     "output_type":"stream"
    }
   ],
   "metadata":{
    "datalore":{
     "node_id":"o1ncDX65xJvNfFprTdAXEa",
     "type":"CODE",
     "hide_input_from_viewers":false,
     "hide_output_from_viewers":false
    }
   }
  },
  {
   "cell_type":"markdown",
   "source":[
    "### (d)"
   ],
   "attachments":{
    
   },
   "metadata":{
    "datalore":{
     "node_id":"ja1nyLhDNAEHH4OhWuxuOa",
     "type":"MD",
     "hide_input_from_viewers":false,
     "hide_output_from_viewers":false
    }
   }
  },
  {
   "cell_type":"code",
   "source":[
    "red_np = past_samples[past_samples.color == 0].pH.to_numpy()\n",
    "z1_s = np.array(red_np > tau).astype(float)\n",
    "n1 = red_np.shape[0]\n",
    "s1 = z1_s.sum()\n",
    "\n",
    "white_np = past_samples[past_samples.color == 1].pH.to_numpy()\n",
    "z2_s = np.array(white_np > tau).astype(float)\n",
    "n2 = white_np.shape[0]\n",
    "s2 = z2_s.sum()\n",
    "\n",
    "alpha_1, beta_1, _, _ = beta.fit(z1_s)\n",
    "alpha_2, beta_2, _, _ = beta.fit(z2_s)\n",
    "\n",
    "print(f\"p1 is ditributed Beta({alpha_1},{beta_1})\")\n",
    "print(f\"p2 is ditributed Beta({alpha_2},{beta_2})\")"
   ],
   "execution_count":233,
   "outputs":[
    {
     "name":"stdout",
     "text":[
      "p1 is ditributed Beta(1.1690613080818638e-06,7.90649604048157e-08)\n",
      "p2 is ditributed Beta(1.643672398339603,0.8295042526485639)\n"
     ],
     "output_type":"stream"
    }
   ],
   "metadata":{
    "datalore":{
     "node_id":"zPaj6ZTFYFTC2eGFoP7c3g",
     "type":"CODE",
     "hide_input_from_viewers":false,
     "hide_output_from_viewers":false
    }
   }
  },
  {
   "cell_type":"code",
   "source":[
    "priors_1 = np.random.beta(a=s1+alpha_1, b=n1+beta_1-s1, size=B)\n",
    "priors_2 = np.random.beta(a=s2+alpha_2, b=n2+beta_2-s2, size=B)\n",
    "\n",
    "eta_1s = np.log(priors_1 \/ (1 - priors_1))\n",
    "eta_2s = np.log(priors_2 \/ (1 - priors_2))\n",
    "\n",
    "psis = eta_1s - eta_2s\n",
    "# psi_hat = np.histogram(psis).max()\n",
    "\n",
    "psi_df = pd.DataFrame(psis)\n",
    "\n",
    "# Plot histogram of psi values as calculated in Example 11.4 in the book\n",
    "psi_df.hist()"
   ],
   "execution_count":234,
   "outputs":[
    {
     "data":{
      "text\/html":[
       "<pre>array([[%lt;AxesSubplot:title={'center':'0'}%gt;]], dtype=object)<\/pre>"
      ]
     },
     "metadata":{
      
     },
     "output_type":"display_data"
    },
    {
     "data":{
      "image\/png":"[encoded data removed]"
     },
     "metadata":{
      "image\/png":{
       
      }
     },
     "output_type":"display_data"
    }
   ],
   "metadata":{
    "datalore":{
     "node_id":"D9nVYwCoKuex6cQUgZF6tv",
     "type":"CODE",
     "hide_input_from_viewers":false,
     "hide_output_from_viewers":false
    }
   }
  },
  {
   "cell_type":"markdown",
   "source":[
    "As we can see, the maximum of the estimated posterior distribution occurs when $\\widehat\\psi \\approx 1.2$."
   ],
   "attachments":{
    
   },
   "metadata":{
    "datalore":{
     "node_id":"Ur686fqO2k9TAcTtEThJ9M",
     "type":"MD",
     "hide_input_from_viewers":false,
     "hide_output_from_viewers":false
    }
   }
  },
  {
   "cell_type":"code",
   "source":[
    "# Calculate credible interval based on quantiles of the estimated psis\n",
    "low = np.quantile(psis, 0.025, axis=0)\n",
    "high = np.quantile(psis, 0.975, axis=0)\n",
    "\n",
    "print(f\"Credible interval for psi: {[low, high]}\")"
   ],
   "execution_count":235,
   "outputs":[
    {
     "name":"stdout",
     "text":[
      "Credible interval for psi: [0.9136324699559017, 1.5314196382956722]\n"
     ],
     "output_type":"stream"
    }
   ],
   "metadata":{
    "datalore":{
     "node_id":"QfSzxc5ZxALkQvzoogL5AY",
     "type":"CODE",
     "hide_input_from_viewers":false,
     "hide_output_from_viewers":false
    }
   }
  },
  {
   "cell_type":"markdown",
   "source":[
    "### (e)"
   ],
   "attachments":{
    
   },
   "metadata":{
    "datalore":{
     "node_id":"nMMBliDn6kYgbFEBhSrNsd",
     "type":"MD",
     "hide_input_from_viewers":false,
     "hide_output_from_viewers":false
    }
   }
  },
  {
   "cell_type":"markdown",
   "source":[
    "As we can see, all three estimators are practically the same."
   ],
   "attachments":{
    
   },
   "metadata":{
    "datalore":{
     "node_id":"L7kgTL12MWoQoDhpOiJvH0",
     "type":"MD",
     "hide_input_from_viewers":false,
     "hide_output_from_viewers":false
    }
   }
  },
  {
   "cell_type":"markdown",
   "source":[
    "# Part B - Missing Data"
   ],
   "attachments":{
    
   },
   "metadata":{
    "datalore":{
     "node_id":"wFXWchFbNtYWzJfUFxlKeR",
     "type":"MD",
     "hide_input_from_viewers":false,
     "hide_output_from_viewers":false
    }
   }
  },
  {
   "cell_type":"markdown",
   "source":[
    "## Question 1:"
   ],
   "attachments":{
    
   },
   "metadata":{
    "datalore":{
     "node_id":"VJCg4p1QlT8ccLTJyvFnKA",
     "type":"MD",
     "hide_input_from_viewers":false,
     "hide_output_from_viewers":false
    }
   }
  },
  {
   "cell_type":"markdown",
   "source":[
    "Explanatory variables:\n",
    "- volatile acidity\n",
    "- citric acid\n",
    "- quality\n",
    "\n",
    "\n",
    "Response variable:\n",
    "- pH"
   ],
   "attachments":{
    
   },
   "metadata":{
    "datalore":{
     "node_id":"wgIagMZtVszgrOu6SAM0XP",
     "type":"MD",
     "hide_input_from_viewers":false,
     "hide_output_from_viewers":false
    }
   }
  },
  {
   "cell_type":"code",
   "source":[
    "explanatory_vars = ['volatile acidity', 'free sulfur dioxide','quality']\n",
    "explained_var = 'pH'"
   ],
   "execution_count":236,
   "outputs":[
    
   ],
   "metadata":{
    "datalore":{
     "node_id":"c3WAmINzPiflPR102TbPIL",
     "type":"CODE",
     "hide_input_from_viewers":false,
     "hide_output_from_viewers":false
    }
   }
  },
  {
   "cell_type":"code",
   "source":[
    "full_information_samples = total_wine_df.sample(1000, replace=False, ignore_index=True, random_state=seed+1)[[*explanatory_vars, 'pH', 'color']]\n",
    "full_information_samples.insert(0, 'Intercept', 1)"
   ],
   "execution_count":237,
   "outputs":[
    
   ],
   "metadata":{
    "datalore":{
     "node_id":"tZQlwsE686rUxZH5MSILnq",
     "type":"CODE",
     "hide_input_from_viewers":false,
     "hide_output_from_viewers":false
    }
   }
  },
  {
   "cell_type":"code",
   "source":[
    "explanatory_vars.insert(0, 'Intercept')"
   ],
   "execution_count":238,
   "outputs":[
    
   ],
   "metadata":{
    "datalore":{
     "node_id":"Gim0eNDRvCQUN7OOZ1iJDl",
     "type":"CODE",
     "hide_input_from_viewers":false,
     "hide_output_from_viewers":false
    }
   }
  },
  {
   "cell_type":"markdown",
   "source":[
    "## Question 2:"
   ],
   "attachments":{
    
   },
   "metadata":{
    "datalore":{
     "node_id":"Hwz1e06AqM7hfltXMI4MJU",
     "type":"MD",
     "hide_input_from_viewers":false,
     "hide_output_from_viewers":false
    }
   }
  },
  {
   "cell_type":"code",
   "source":[
    "def fit_regression(data, concat=False):\n",
    "    X_np = data[explanatory_vars].to_numpy()\n",
    "    if concat:\n",
    "        X = np.concatenate([np.ones((data.shape[0], 1)), X_np], axis=1)\n",
    "    else:\n",
    "        X = X_np\n",
    "    Y = data['pH'].to_numpy()\n",
    "    C = np.linalg.inv(X.T @ X)\n",
    "    beta_hat = C @ X.T @ Y\n",
    "\n",
    "    y_bar = Y.mean()\n",
    "    y_hat = X @ beta_hat\n",
    "    SST = ((Y - y_bar) ** 2).sum()\n",
    "    SSR = ((y_hat - y_bar) ** 2).sum()\n",
    "    SSRes = SST - SSR\n",
    "    # Three explanatory variables and 1000 samples\n",
    "    p = 4\n",
    "    n = data.shape[0]\n",
    "    k = 3\n",
    "\n",
    "    MSRes = SSRes \/ (n - p)\n",
    "    cis = np.zeros((4, 2))\n",
    "\n",
    "    for i in range(4):\n",
    "        ci_step = 2 * np.sqrt(C[i,i] * MSRes)\n",
    "        l = beta_hat[i] - ci_step\n",
    "        u = beta_hat[i] + ci_step\n",
    "        cis[i, 0], cis[i, 1] = l, u\n",
    "\n",
    "    return beta_hat, cis"
   ],
   "execution_count":239,
   "outputs":[
    
   ],
   "metadata":{
    "datalore":{
     "node_id":"RbgHGYraq7saykzmW44W9r",
     "type":"CODE",
     "hide_input_from_viewers":false,
     "hide_output_from_viewers":false
    }
   }
  },
  {
   "cell_type":"code",
   "source":[
    "beta_est, full_information_cis = fit_regression(full_information_samples)\n",
    "print(f\"Beta fitted on full information samples: {beta_est}\")\n",
    "for i, col in enumerate(['Intercept', 'volatile acidity', 'free sulfur dioxide','quality']):\n",
    "    print(f\"Confidence interval for {col}: {full_information_cis[i]}\")"
   ],
   "execution_count":240,
   "outputs":[
    {
     "name":"stdout",
     "text":[
      "Beta fitted on full information samples: [ 3.04406156e+00  2.44386460e-01 -6.45484308e-04  1.79431664e-02]\n",
      "Confidence interval for Intercept: [2.96453762 3.1235855 ]\n",
      "Confidence interval for volatile acidity: [0.18376203 0.30501089]\n",
      "Confidence interval for free sulfur dioxide: [-1.24322572e-03 -4.77428944e-05]\n",
      "Confidence interval for quality: [0.0067012  0.02918513]\n"
     ],
     "output_type":"stream"
    }
   ],
   "metadata":{
    "datalore":{
     "node_id":"lthULgUcpKrNwHLFWjzlWT",
     "type":"CODE",
     "hide_input_from_viewers":false,
     "hide_output_from_viewers":false
    }
   }
  },
  {
   "cell_type":"markdown",
   "source":[
    "## Question 3:"
   ],
   "attachments":{
    
   },
   "metadata":{
    "datalore":{
     "node_id":"rhapCZlrequykPcI6Pmrmn",
     "type":"MD",
     "hide_input_from_viewers":false,
     "hide_output_from_viewers":false
    }
   }
  },
  {
   "cell_type":"code",
   "source":[
    "probs = np.arange(0.2, 0.8, 0.6\/999)\n",
    "\n",
    "mask = np.ones(1000)\n",
    "\n",
    "for i in range(1000):\n",
    "    mask[i] = bernoulli.rvs(1-probs[i], random_state=seed+i)\n",
    "\n",
    "full_samples = full_information_samples[mask == 1]\n",
    "missing_samples = full_information_samples[mask == 0]"
   ],
   "execution_count":241,
   "outputs":[
    
   ],
   "metadata":{
    "datalore":{
     "node_id":"hpV3PUN1A1kOSxUUZMQ2z6",
     "type":"CODE",
     "hide_input_from_viewers":false,
     "hide_output_from_viewers":false
    }
   }
  },
  {
   "cell_type":"markdown",
   "source":[
    "## Question 4:"
   ],
   "attachments":{
    
   },
   "metadata":{
    "datalore":{
     "node_id":"h7EhP2QeVA2V6WuaTpcKoM",
     "type":"MD",
     "hide_input_from_viewers":false,
     "hide_output_from_viewers":false
    }
   }
  },
  {
   "cell_type":"markdown",
   "source":[
    "### (a)"
   ],
   "attachments":{
    
   },
   "metadata":{
    "datalore":{
     "node_id":"QrkmsoAU4e9Y61mclVIz9w",
     "type":"MD",
     "hide_input_from_viewers":false,
     "hide_output_from_viewers":false
    }
   }
  },
  {
   "cell_type":"code",
   "source":[
    "non_missing_beta, non_missing_cis = fit_regression(full_samples)\n",
    "print(f\"Beta fitted on full information samples: {non_missing_beta}\")\n",
    "for i, col in enumerate(['Intercept', 'volatile acidity', 'free sulfur dioxide','quality']):\n",
    "    print(f\"Confidence interval for {col}: {non_missing_cis[i]}\")"
   ],
   "execution_count":242,
   "outputs":[
    {
     "name":"stdout",
     "text":[
      "Beta fitted on full information samples: [ 2.99099383e+00  2.45923159e-01 -6.34093531e-04  2.70666078e-02]\n",
      "Confidence interval for Intercept: [2.87615661 3.10583105]\n",
      "Confidence interval for volatile acidity: [0.16275345 0.32909287]\n",
      "Confidence interval for free sulfur dioxide: [-0.00144861  0.00018042]\n",
      "Confidence interval for quality: [0.01083367 0.04329955]\n"
     ],
     "output_type":"stream"
    }
   ],
   "metadata":{
    "datalore":{
     "node_id":"6em6HvH6q0IXmltnk84mQg",
     "type":"CODE",
     "hide_input_from_viewers":false,
     "hide_output_from_viewers":false
    }
   }
  },
  {
   "cell_type":"markdown",
   "source":[
    "### (b)"
   ],
   "attachments":{
    
   },
   "metadata":{
    "datalore":{
     "node_id":"y9R4wzNwFKlFIlxL7YyuUs",
     "type":"MD",
     "hide_input_from_viewers":false,
     "hide_output_from_viewers":false
    }
   }
  },
  {
   "cell_type":"code",
   "source":[
    "aux_vars = explanatory_vars\n",
    "num_full = full_samples.shape[0]\n",
    "num_missing = missing_samples.shape[0]"
   ],
   "execution_count":243,
   "outputs":[
    
   ],
   "metadata":{
    "datalore":{
     "node_id":"V6RvqAEVATTr2xmAxNRgvY",
     "type":"CODE",
     "hide_input_from_viewers":false,
     "hide_output_from_viewers":false
    }
   }
  },
  {
   "cell_type":"code",
   "source":[
    "# Construct matrix where each row is (1, W_i)\n",
    "X = full_samples[aux_vars].to_numpy()\n",
    "Y = full_samples.pH.to_numpy()\n",
    "\n",
    "lefts = sum([np.outer(row.T, row) for row in X])\n",
    "left = np.linalg.inv(lefts)\n",
    "\n",
    "right = sum([(pH * row) for pH, row in zip(Y, X)])\n",
    "# Estimate beta according to full information samples\n",
    "imputed_beta = left @ right"
   ],
   "execution_count":244,
   "outputs":[
    
   ],
   "metadata":{
    "datalore":{
     "node_id":"H01QpluXjVBsFrOtzofBSU",
     "type":"CODE",
     "hide_input_from_viewers":false,
     "hide_output_from_viewers":false
    }
   }
  },
  {
   "cell_type":"code",
   "source":[
    "# Infer missing data using estimation regression parameters\n",
    "X_missing = missing_samples[aux_vars].to_numpy()\n",
    "Y_missing = X_missing @ imputed_beta \n",
    "\n",
    "missing_samples['pH'] = Y_missing\n",
    "\n",
    "new_full_df = pd.concat((full_samples, missing_samples))\n",
    "\n",
    "beta_hat, imputation_cis = fit_regression(new_full_df)"
   ],
   "execution_count":245,
   "outputs":[
    
   ],
   "metadata":{
    "datalore":{
     "node_id":"PDxZJUqwgstMHULPnXl3Hm",
     "type":"CODE",
     "hide_input_from_viewers":false,
     "hide_output_from_viewers":false
    }
   }
  },
  {
   "cell_type":"code",
   "source":[
    "print(f\"Beta fitted on full information samples: {beta_hat}\")\n",
    "for i, col in enumerate(['Intercept', 'volatile acidity', 'free sulfur dioxide','quality']):\n",
    "    print(f\"Confidence interval for {col}: {imputation_cis[i]}\")"
   ],
   "execution_count":246,
   "outputs":[
    {
     "name":"stdout",
     "text":[
      "Beta fitted on full information samples: [ 2.99099383e+00  2.45923159e-01 -6.34093531e-04  2.70666078e-02]\n",
      "Confidence interval for Intercept: [2.93590828 3.04607938]\n",
      "Confidence interval for volatile acidity: [0.20392914 0.28791718]\n",
      "Confidence interval for free sulfur dioxide: [-0.00104814 -0.00022004]\n",
      "Confidence interval for quality: [0.0192794  0.03485382]\n"
     ],
     "output_type":"stream"
    }
   ],
   "metadata":{
    "datalore":{
     "node_id":"3vTV1U8604pw5J9dRoCG4l",
     "type":"CODE",
     "hide_input_from_viewers":false,
     "hide_output_from_viewers":false
    }
   }
  },
  {
   "cell_type":"markdown",
   "source":[
    "The results are exactly the same as in the previous subsection, since the inferred values were based solely on the regression parameters fitted on the data from the previous subsection and so do not affect the parameters."
   ],
   "attachments":{
    
   },
   "metadata":{
    "datalore":{
     "node_id":"5rLCeyyifpAFo6B5Vf8vXC",
     "type":"MD",
     "hide_input_from_viewers":false,
     "hide_output_from_viewers":false
    }
   }
  },
  {
   "cell_type":"markdown",
   "source":[
    "### (c)"
   ],
   "attachments":{
    
   },
   "metadata":{
    "datalore":{
     "node_id":"v6mEjskVGSxgP3FHL7sE4Q",
     "type":"MD",
     "hide_input_from_viewers":false,
     "hide_output_from_viewers":false
    }
   }
  },
  {
   "cell_type":"code",
   "source":[
    "M = 1000"
   ],
   "execution_count":247,
   "outputs":[
    
   ],
   "metadata":{
    "datalore":{
     "node_id":"ZFCaQGh4lwTgBjf9DPCbvt",
     "type":"CODE",
     "hide_input_from_viewers":false,
     "hide_output_from_viewers":false
    }
   }
  },
  {
   "cell_type":"code",
   "source":[
    "def get_se(data):\n",
    "    beta_hat, _ = fit_regression(data)\n",
    "    n = data.shape[0]\n",
    "    p = 4\n",
    "    # X_np = np.concatenate((np.ones((n, 1)), data[aux_vars].to_numpy()), axis=1)\n",
    "    X_np = data[aux_vars].to_numpy()\n",
    "    y_np = data['pH'].to_numpy()\n",
    "\n",
    "    C = np.diag(np.linalg.inv(X_np.T @ X_np))\n",
    "\n",
    "    SS_res = np.sum((X_np @ beta_hat - y_np)**2)\n",
    "\n",
    "    se_beta_hat = np.sqrt(C) * ((SS_res \/ (n-p)) ** 0.5)\n",
    "    return se_beta_hat"
   ],
   "execution_count":248,
   "outputs":[
    
   ],
   "metadata":{
    "datalore":{
     "node_id":"LPAhxCBQTfDaTvZ0FquiPr",
     "type":"CODE",
     "hide_input_from_viewers":false,
     "hide_output_from_viewers":false
    }
   }
  },
  {
   "cell_type":"code",
   "source":[
    "noise_var = ((Y - (X @ beta_hat)) ** 2).mean()\n",
    "\n",
    "betas = np.zeros((M, 4))\n",
    "y_sets = np.zeros((full_information_samples.shape[0], M))\n",
    "temp = full_information_samples\n",
    "\n",
    "sample_ses = [] \n",
    "\n",
    "# X_all = np.concatenate((np.ones((full_information_samples.shape[0], 1)), full_information_samples[aux_vars].to_numpy()), axis=1)\n",
    "X_all =  full_information_samples[aux_vars].to_numpy()\n",
    "\n",
    "for i in range(full_information_samples.shape[0]):\n",
    "    mu = (X_all[i] @ beta_hat).sum() \n",
    "    y_sets[i] = np.random.normal(loc=mu, scale=np.sqrt(noise_var), size=full_information_samples.shape[0])\n",
    "\n",
    "for i in range(M):\n",
    "    temp['pH'] = y_sets\n",
    "    betas[i], _ = fit_regression(temp)\n",
    "    sample_ses.append(get_se(temp))\n",
    "\n",
    "sample_ses = np.array(sample_ses)\n",
    "\n",
    "\n",
    "mult_imputation_beta = betas.mean(axis=0)\n",
    "mult_imputation_beta"
   ],
   "execution_count":249,
   "outputs":[
    {
     "data":{
      "text\/html":[
       "<pre>array([ 2.94734257e+00,  2.92938182e-01, -5.66593867e-04,  3.14225957e-02])<\/pre>"
      ]
     },
     "metadata":{
      
     },
     "output_type":"display_data"
    }
   ],
   "metadata":{
    "datalore":{
     "node_id":"f3k9XpI13bn0vLS615lveE",
     "type":"CODE",
     "hide_input_from_viewers":false,
     "hide_output_from_viewers":false
    }
   }
  },
  {
   "cell_type":"markdown",
   "source":[
    "### (d)"
   ],
   "attachments":{
    
   },
   "metadata":{
    "datalore":{
     "node_id":"mQzUIYTe1iuC1zN8YOlwBM",
     "type":"MD",
     "hide_input_from_viewers":false,
     "hide_output_from_viewers":false
    }
   }
  },
  {
   "cell_type":"code",
   "source":[
    "diff = betas - mult_imputation_beta\n",
    "vars_mat = sample_ses.mean(axis = 0) + (M+1)\/(M*(M-1))* np.sum(diff**2, axis = 0)\n",
    "ses_mat = np.sqrt(vars_mat)\n",
    "ses_mat"
   ],
   "execution_count":250,
   "outputs":[
    {
     "data":{
      "text\/html":[
       "<pre>array([0.19740457, 0.17235826, 0.01711453, 0.07422144])<\/pre>"
      ]
     },
     "metadata":{
      
     },
     "output_type":"display_data"
    }
   ],
   "metadata":{
    "datalore":{
     "node_id":"z0Jk82OGfjs9VPSdqsmz4V",
     "type":"CODE",
     "hide_input_from_viewers":false,
     "hide_output_from_viewers":false
    }
   }
  },
  {
   "cell_type":"code",
   "source":[
    "print(f\"beta calculated by Rubin's formula: {beta_est}\")\n",
    "for i, col in enumerate(['Intercept', 'volatile acidity', 'free sulfur dioxide','quality']):\n",
    "    low = mult_imputation_beta[i] - 2*ses_mat[i]\n",
    "    high = mult_imputation_beta[i] + 2*ses_mat[i]\n",
    "    print(f\"Confidence interval for {col}: {[low, high]}\")"
   ],
   "execution_count":251,
   "outputs":[
    {
     "name":"stdout",
     "text":[
      "beta calculated by Rubin's formula: [ 3.04406156e+00  2.44386460e-01 -6.45484308e-04  1.79431664e-02]\n",
      "Confidence interval for Intercept: [2.5525334379811824, 3.3421516983647175]\n",
      "Confidence interval for volatile acidity: [-0.05177833696661144, 0.6376547016776564]\n",
      "Confidence interval for free sulfur dioxide: [-0.034795649560156704, 0.03366246182695167]\n",
      "Confidence interval for quality: [-0.11702028414483008, 0.17986547555410187]\n"
     ],
     "output_type":"stream"
    }
   ],
   "metadata":{
    "datalore":{
     "node_id":"2xdw2DqQ1XO77c1npKHheq",
     "type":"CODE",
     "hide_input_from_viewers":false,
     "hide_output_from_viewers":false
    }
   }
  },
  {
   "cell_type":"markdown",
   "source":[
    "### (e)"
   ],
   "attachments":{
    
   },
   "metadata":{
    "datalore":{
     "node_id":"lWHKDkd2re6pxa1jdrAYBF",
     "type":"MD",
     "hide_input_from_viewers":false,
     "hide_output_from_viewers":false
    }
   }
  },
  {
   "cell_type":"code",
   "source":[
    "rs = np.ones(full_information_samples.shape[0])\n",
    "\n",
    "full_samples.insert(loc=full_samples.shape[1], column='R', value=1)\n",
    "missing_samples.insert(loc=missing_samples.shape[1], column='R', value=0)\n",
    "\n",
    "total = pd.concat([full_samples, missing_samples])"
   ],
   "execution_count":252,
   "outputs":[
    
   ],
   "metadata":{
    "datalore":{
     "node_id":"szgzNk2UsMmbJWgzzeeddG",
     "type":"CODE",
     "hide_input_from_viewers":false,
     "hide_output_from_viewers":false
    }
   }
  },
  {
   "cell_type":"code",
   "source":[
    "logistic_model = LogisticRegression().fit(total[aux_vars], total['R'])\n",
    "logistic_model.predict_proba(total[aux_vars])[:, 1]"
   ],
   "execution_count":253,
   "outputs":[
    {
     "data":{
      "text\/html":[
       "<pre>array([0.48350149, 0.47634021, 0.50863792, 0.48086134, 0.52602339,\n",
       "       0.47459932, 0.4799643 , 0.43778077, 0.47804185, 0.50648271,\n",
       "       0.4887525 , 0.48192176, 0.51376148, 0.47156856, 0.465011  ,\n",
       "       0.50828187, 0.50470329, 0.52067899, 0.54275891, 0.47058172,\n",
       "       0.45996787, 0.49495359, 0.54156463, 0.48294521, 0.49747066,\n",
       "       0.51436647, 0.52697894, 0.48864363, 0.51654872, 0.46574503,\n",
       "       0.48824515, 0.46184489, 0.5283185 , 0.52333725, 0.50790582,\n",
       "       0.45418422, 0.48907667, 0.47233835, 0.46988382, 0.53857892,\n",
       "       0.44656225, 0.47589072, 0.4947383 , 0.5283185 , 0.46452824,\n",
       "       0.52124617, 0.51220093, 0.49180819, 0.51236167, 0.47316257,\n",
       "       0.48375371, 0.50484411, 0.49779761, 0.49375091, 0.51658587,\n",
       "       0.49322601, 0.47569578, 0.50695043, 0.46984676, 0.51106518,\n",
       "       0.48993752, 0.50052749, 0.44233551, 0.44761226, 0.48502976,\n",
       "       0.50398032, 0.49132062, 0.53612729, 0.46588793, 0.52527043,\n",
       "       0.4338175 , 0.48066623, 0.52937958, 0.5514382 , 0.45816583,\n",
       "       0.46243558, 0.50955004, 0.44180313, 0.44139543, 0.49693113,\n",
       "       0.46132824, 0.53673542, 0.47031552, 0.47043874, 0.4927583 ,\n",
       "       0.48470573, 0.50244468, 0.49799564, 0.54754141, 0.50532323,\n",
       "       0.47395248, 0.49018728, 0.47759484, 0.55690087, 0.48226292,\n",
       "       0.49885686, 0.49470103, 0.52096291, 0.48813882, 0.49085287,\n",
       "       0.50482684, 0.50522023, 0.48591016, 0.46408001, 0.45636227,\n",
       "       0.49457484, 0.46186469, 0.48386261, 0.44499924, 0.51329403,\n",
       "       0.53249355, 0.53671823, 0.52026635, 0.50781147, 0.48587563,\n",
       "       0.4874215 , 0.50113885, 0.55579599, 0.4964659 , 0.53515012,\n",
       "       0.53759451, 0.52834967, 0.46755378, 0.54641508, 0.48486643,\n",
       "       0.53854195, 0.53666669, 0.49220152, 0.48623686, 0.5455414 ,\n",
       "       0.53598718, 0.49794118, 0.52439147, 0.51360085, 0.4859991 ,\n",
       "       0.50959057, 0.51650885, 0.48368205, 0.51386779, 0.47477698,\n",
       "       0.51259411, 0.48628602, 0.46751675, 0.47947993, 0.51647434,\n",
       "       0.53515012, 0.48303421, 0.52959151, 0.54458164, 0.45263346,\n",
       "       0.56125964, 0.44334683, 0.4401728 , 0.54434829, 0.49912399,\n",
       "       0.50498767, 0.51302444, 0.52745995, 0.50148045, 0.48736971,\n",
       "       0.50633653, 0.46408001, 0.49908944, 0.4856605 , 0.5129354 ,\n",
       "       0.47840267, 0.50365874, 0.47470806, 0.50011415, 0.50870973,\n",
       "       0.52627519, 0.55462229, 0.5244458 , 0.51895125, 0.47416721,\n",
       "       0.494018  , 0.497993  , 0.46538786, 0.49218424, 0.48492084,\n",
       "       0.48222578, 0.46913766, 0.47135133, 0.50739822, 0.46771395,\n",
       "       0.48019651, 0.44900075, 0.49322601, 0.45784379, 0.50072552,\n",
       "       0.49428783, 0.52322584, 0.5044249 , 0.55579599, 0.49788399,\n",
       "       0.47438194, 0.53455358, 0.55831453, 0.51022161, 0.49116246,\n",
       "       0.48806976, 0.47390079, 0.52084219, 0.45461387, 0.51130628,\n",
       "       0.50108439, 0.47207204, 0.4762142 , 0.56122292, 0.46145116,\n",
       "       0.47737135, 0.49937648, 0.49632243, 0.47761208, 0.51810846,\n",
       "       0.51119141, 0.5514382 , 0.49294156, 0.5356989 , 0.5077052 ,\n",
       "       0.469858  , 0.52930537, 0.48228018, 0.54104855, 0.45504097,\n",
       "       0.46936339, 0.49856981, 0.48188726, 0.47788131, 0.4685571 ,\n",
       "       0.57284363, 0.51021897, 0.46533366, 0.4903507 , 0.53510778,\n",
       "       0.48553168, 0.54257947, 0.55936441, 0.50497039, 0.52905373,\n",
       "       0.49896851, 0.50694779, 0.46488533, 0.46730236, 0.51703325,\n",
       "       0.48449063, 0.49454293, 0.51749787, 0.50096083, 0.48684516,\n",
       "       0.50338625, 0.54876732, 0.45804042, 0.49207798, 0.51022161,\n",
       "       0.4338175 , 0.5258657 , 0.49918382, 0.50656907, 0.49684203,\n",
       "       0.46502819, 0.54338289, 0.55048334, 0.45918354, 0.46243558,\n",
       "       0.47014999, 0.44674095, 0.5166549 , 0.55619427, 0.50649998,\n",
       "       0.49419874, 0.48569502, 0.46395699, 0.47074201, 0.48463406,\n",
       "       0.50865519, 0.55459345, 0.49606722, 0.52006591, 0.54097197,\n",
       "       0.47693301, 0.4806291 , 0.46703638, 0.51099348, 0.48217402,\n",
       "       0.46506519, 0.49520342, 0.51891675, 0.44515814, 0.47874364,\n",
       "       0.44737109, 0.50275763, 0.47863483, 0.46461952, 0.53612729,\n",
       "       0.46835986, 0.4778442 , 0.47461918, 0.58069348, 0.50930627,\n",
       "       0.47671817, 0.47352042, 0.494018  , 0.50923183, 0.51209197,\n",
       "       0.53807952, 0.50227257, 0.49865619, 0.51072374, 0.47671554,\n",
       "       0.47691314, 0.52498411, 0.52643822, 0.4827129 , 0.49642607,\n",
       "       0.51007546, 0.44180313, 0.51020171, 0.4585763 , 0.50818752,\n",
       "       0.52036983, 0.47207204, 0.49428774, 0.48168949, 0.49107083,\n",
       "       0.49240214, 0.52573974, 0.49745338, 0.48567776, 0.49858709,\n",
       "       0.44494543, 0.46629937, 0.52851589, 0.46181054, 0.51399389,\n",
       "       0.52195124, 0.45761287, 0.48786921, 0.48023364, 0.49695104,\n",
       "       0.53221033, 0.48111347, 0.45891549, 0.56776546, 0.4904025 ,\n",
       "       0.50178741, 0.47520915, 0.48815609, 0.52592001, 0.59664   ,\n",
       "       0.44676064, 0.5139362 , 0.5065518 , 0.51144114, 0.52543086,\n",
       "       0.51999429, 0.51233041, 0.4612028 , 0.45636227, 0.48812156,\n",
       "       0.47667834, 0.5250729 , 0.48788648, 0.48478013, 0.48332356,\n",
       "       0.54801945, 0.49470375, 0.49854981, 0.47235557, 0.50396304,\n",
       "       0.51938387, 0.53147304, 0.44914283, 0.48675348, 0.51412008,\n",
       "       0.47599676, 0.47398694, 0.4941961 , 0.47818777, 0.43187549,\n",
       "       0.49828004, 0.51027341, 0.50522023, 0.48449063, 0.51606144,\n",
       "       0.47508326, 0.49624796, 0.53073823, 0.53193896, 0.44564004,\n",
       "       0.47113673, 0.49379273, 0.4981392 , 0.47133411, 0.51126311,\n",
       "       0.47303927, 0.53207334, 0.46093457, 0.53453638, 0.51987092,\n",
       "       0.45498694, 0.45122582, 0.45420396, 0.52186503, 0.53052373,\n",
       "       0.53694955, 0.53066676, 0.46291796, 0.45284685, 0.515614  ,\n",
       "       0.47946268, 0.51699012, 0.49502795, 0.52049591, 0.49221879,\n",
       "       0.4840777 , 0.49249122, 0.50906113, 0.517016  , 0.48210228,\n",
       "       0.49642871, 0.52089393, 0.50759358, 0.46623058, 0.52661583,\n",
       "       0.47705631, 0.51710228, 0.50081726, 0.44215977, 0.49799564,\n",
       "       0.55513835, 0.50293838, 0.49281275, 0.55900797, 0.49939649,\n",
       "       0.48185012, 0.48991761, 0.50788319, 0.46789396, 0.50141399,\n",
       "       0.47861758, 0.49596357, 0.47662662, 0.48098745, 0.49222142,\n",
       "       0.50621289, 0.52783495, 0.49200353, 0.49328319, 0.49360473,\n",
       "       0.48835401, 0.50260816, 0.51753237, 0.50885316, 0.50594052,\n",
       "       0.4737179 , 0.46845386, 0.55225598, 0.51274022, 0.48957616,\n",
       "       0.49648053, 0.46104293, 0.47128245, 0.47761208, 0.50394577,\n",
       "       0.49782952, 0.4923995 , 0.5008319 , 0.46427702, 0.46003915,\n",
       "       0.48754772, 0.50745004, 0.47633758, 0.53612729, 0.47695025,\n",
       "       0.49565391, 0.51705051, 0.54846578, 0.43898754, 0.45179722,\n",
       "       0.47009835, 0.48729275, 0.48328642, 0.5029012 , 0.45780687,\n",
       "       0.52101728, 0.5075444 , 0.50031218, 0.46361727, 0.48181298,\n",
       "       0.48571228, 0.54779621, 0.48768856, 0.53015168, 0.52989412,\n",
       "       0.49585193, 0.52565096, 0.47743432, 0.53720066, 0.49137506,\n",
       "       0.55211074, 0.46331186, 0.43778077, 0.48387987, 0.47354028,\n",
       "       0.48646664, 0.46911185, 0.4543806 , 0.48511869, 0.45758453,\n",
       "       0.47829649, 0.51453308, 0.49315692, 0.46078935, 0.54474121,\n",
       "       0.47330573, 0.48772573, 0.47958613, 0.50133688, 0.49772314,\n",
       "       0.52519888, 0.51089851, 0.49642871, 0.48148047, 0.53188472,\n",
       "       0.53310229, 0.47788394, 0.46829104, 0.48511869, 0.47314534,\n",
       "       0.49894587, 0.48524488, 0.53045226, 0.49421601, 0.50682152,\n",
       "       0.47434748, 0.47190907, 0.52091117, 0.50763075, 0.49666128,\n",
       "       0.47623144, 0.51837787, 0.45923502, 0.53012912, 0.49309983,\n",
       "       0.54052705, 0.51043419, 0.51122594, 0.4807897 , 0.48035974,\n",
       "       0.48871533, 0.51995716, 0.49987893, 0.47854597, 0.47076185,\n",
       "       0.47477698, 0.49145551, 0.53884978, 0.47072479, 0.50683879,\n",
       "       0.47009572, 0.47010097, 0.5234659 , 0.50905113, 0.52580866,\n",
       "       0.5161331 , 0.48233457, 0.50337161, 0.49319146, 0.51396209,\n",
       "       0.48826495, 0.48489495, 0.5127176 , 0.51926049, 0.48991761,\n",
       "       0.47433025, 0.51120868, 0.54263354, 0.47368345, 0.4799643 ,\n",
       "       0.44476948, 0.50501031, 0.49515423, 0.47883513, 0.50211173,\n",
       "       0.51219829, 0.47312812, 0.51252242, 0.5106693 , 0.44896656,\n",
       "       0.495628  , 0.46166782, 0.5274401 , 0.48185012, 0.49976264,\n",
       "       0.4747339 , 0.4529549 , 0.48754508, 0.53188472, 0.52482104,\n",
       "       0.53974003, 0.51944097, 0.47235557, 0.47277029, 0.49043968,\n",
       "       0.50653453, 0.54224033, 0.5334794 , 0.49425056, 0.50995458,\n",
       "       0.54539901, 0.49874784, 0.45306286, 0.51864736, 0.47458209,\n",
       "       0.47275044, 0.44917963, 0.52821255, 0.47698473, 0.49517151,\n",
       "       0.52844438, 0.48544537, 0.44201553, 0.5135318 , 0.47652057,\n",
       "       0.46787676, 0.47842255, 0.4693806 , 0.47115658, 0.46152509,\n",
       "       0.48368205, 0.49099639, 0.47226683, 0.50770784, 0.5510121 ,\n",
       "       0.47382653, 0.50802672, 0.48957616, 0.46610487, 0.47336003,\n",
       "       0.47316257, 0.50013142, 0.45095863, 0.47492019, 0.49146678,\n",
       "       0.50081726, 0.48697127, 0.4864839 , 0.48120508, 0.52645408,\n",
       "       0.44468146, 0.51149557, 0.50495048, 0.47621158, 0.47508317,\n",
       "       0.47847428, 0.51205217, 0.50713115, 0.47402402, 0.46914889,\n",
       "       0.4992131 , 0.46810839, 0.47841992, 0.46526227, 0.4888043 ,\n",
       "       0.49606722, 0.4830541 , 0.46086327, 0.44722057, 0.4852734 ,\n",
       "       0.48912847, 0.48028802, 0.53093551, 0.45940004, 0.47888686,\n",
       "       0.57015006, 0.4903507 , 0.48707758, 0.46443967, 0.48409496,\n",
       "       0.50894487, 0.47680436, 0.46542496, 0.47492019, 0.48021639,\n",
       "       0.48543411, 0.45818298, 0.50057604, 0.53369374, 0.48060322,\n",
       "       0.51234441, 0.4690748 , 0.55139816, 0.46220432, 0.45099546,\n",
       "       0.49450302, 0.50223802, 0.45464813, 0.49970344, 0.44917963,\n",
       "       0.4865038 , 0.51827172, 0.52780051, 0.49418146, 0.53720066,\n",
       "       0.51464201, 0.55220472, 0.45741627, 0.47879538, 0.55062274,\n",
       "       0.5253964 , 0.51257685, 0.4826585 , 0.45620265, 0.47414735,\n",
       "       0.4762142 , 0.49853253, 0.54302345, 0.45980806, 0.49464657,\n",
       "       0.48724086, 0.48287355, 0.47653518, 0.52745732, 0.4880127 ,\n",
       "       0.47922786, 0.49119436, 0.52661583, 0.44677772, 0.50460892,\n",
       "       0.49752784, 0.4703301 , 0.5115441 , 0.50640825, 0.48632318,\n",
       "       0.51589812, 0.50461164, 0.494018  , 0.49840897, 0.48240895,\n",
       "       0.49585193, 0.52659861, 0.51230125, 0.48005317, 0.50284937,\n",
       "       0.53149024, 0.48833675, 0.5011043 , 0.4887326 , 0.47938843,\n",
       "       0.4889478 , 0.53247635, 0.50585416, 0.48185012, 0.5163708 ,\n",
       "       0.53213618, 0.47009835, 0.47077907, 0.48490358, 0.51879064,\n",
       "       0.54668783, 0.46266948, 0.48835401, 0.50526877, 0.51765851,\n",
       "       0.51340033, 0.48829958, 0.5042528 , 0.48190451, 0.4884975 ,\n",
       "       0.50045575, 0.46957789, 0.49670983, 0.49614759, 0.44499924,\n",
       "       0.48296519, 0.52604062, 0.47153149, 0.49078116, 0.50459437,\n",
       "       0.49838906, 0.47820501, 0.48016202, 0.4811506 , 0.43723256,\n",
       "       0.51050262, 0.53652126, 0.49351236, 0.48700852, 0.5001487 ,\n",
       "       0.51176792, 0.46932634, 0.46846582, 0.50482684, 0.48176385,\n",
       "       0.49578019, 0.52984311, 0.50743277, 0.48567776, 0.45137064,\n",
       "       0.48528203, 0.49186273, 0.49725535, 0.51891675, 0.47786407,\n",
       "       0.44398716, 0.54129401, 0.48149172, 0.45275863, 0.50194825,\n",
       "       0.48429279, 0.49621078, 0.48165235, 0.4986761 , 0.45445174,\n",
       "       0.47637469, 0.49270648, 0.52110622, 0.50946969, 0.46164802,\n",
       "       0.52020925, 0.48099607, 0.47414998, 0.46923766, 0.48713201,\n",
       "       0.46590775, 0.45807473, 0.51137471, 0.49405519, 0.45743342,\n",
       "       0.51232451, 0.48227155, 0.49572837, 0.480503  , 0.48706295,\n",
       "       0.46877157, 0.51246526, 0.47549559, 0.46682201, 0.47309965,\n",
       "       0.52986032, 0.47921062, 0.48533645, 0.47092215, 0.45827138,\n",
       "       0.47592519, 0.51898839, 0.46306336, 0.46284661, 0.51137471,\n",
       "       0.45807473, 0.48161521, 0.56552079, 0.51361548, 0.51954447,\n",
       "       0.49159031, 0.50953604, 0.52251558, 0.50355836, 0.47800736,\n",
       "       0.51552234, 0.47551282, 0.52172173, 0.51552234, 0.50337161,\n",
       "       0.44455681, 0.52086207, 0.47472266, 0.48510143, 0.46549373,\n",
       "       0.49889141, 0.5148425 , 0.55462229, 0.51054579, 0.56103636,\n",
       "       0.49648053, 0.47095921, 0.49745338, 0.49585193, 0.53712932,\n",
       "       0.47396971, 0.49178828, 0.47418444, 0.44080957, 0.49484721,\n",
       "       0.48657548, 0.52006001, 0.53457077, 0.47558439, 0.49486449,\n",
       "       0.49900043, 0.47861758, 0.48995479, 0.50130233, 0.47388094,\n",
       "       0.46401126, 0.47820501, 0.51538164, 0.4835845 , 0.47662662,\n",
       "       0.49031616, 0.47718234, 0.47985546, 0.49752521, 0.48147184,\n",
       "       0.51469379, 0.47818514, 0.46889737, 0.48099008, 0.43563992,\n",
       "       0.51189142, 0.48955889, 0.44088291, 0.46384863, 0.49159031,\n",
       "       0.47908455, 0.52006601, 0.51295539, 0.49565391, 0.51111961,\n",
       "       0.49416155, 0.47273321, 0.48790374, 0.47619434, 0.49200353,\n",
       "       0.47321687, 0.47472266, 0.54102607, 0.50489866, 0.45525454,\n",
       "       0.44658194, 0.49000923, 0.50338625, 0.55525448, 0.46427965,\n",
       "       0.49984438, 0.50666343, 0.48120245, 0.52480381, 0.49482731,\n",
       "       0.49294165, 0.4842729 , 0.55099761, 0.53329945, 0.5785335 ,\n",
       "       0.48476014, 0.50052749, 0.44436122, 0.47348597, 0.48603035,\n",
       "       0.460969  , 0.46902308, 0.47097643, 0.55141192, 0.53331665,\n",
       "       0.49991612, 0.55323512, 0.5116218 , 0.49155577, 0.56267292,\n",
       "       0.48936095, 0.50013142, 0.49214707, 0.49351837, 0.51999429,\n",
       "       0.55645083, 0.47214092, 0.46658775, 0.44704445, 0.52928815,\n",
       "       0.4621329 , 0.48060322, 0.50338625, 0.50935808, 0.50101265,\n",
       "       0.5105976 , 0.50885316, 0.54883774, 0.46463671, 0.4865038 ,\n",
       "       0.46481656, 0.4900983 , 0.50182468, 0.51954447, 0.51108245,\n",
       "       0.49495359, 0.49124881, 0.48513859, 0.47314534, 0.47701921,\n",
       "       0.46723355, 0.58315993, 0.49117709, 0.52474612, 0.49036796,\n",
       "       0.54359919, 0.50559897, 0.51485713, 0.49236232, 0.49626524])<\/pre>"
      ]
     },
     "metadata":{
      
     },
     "output_type":"display_data"
    }
   ],
   "metadata":{
    "datalore":{
     "node_id":"NBGrPZBQLHE4I2b1QoYwTi",
     "type":"CODE",
     "hide_input_from_viewers":false,
     "hide_output_from_viewers":false
    }
   }
  },
  {
   "cell_type":"markdown",
   "source":[
    "### (f)"
   ],
   "attachments":{
    
   },
   "metadata":{
    "datalore":{
     "node_id":"qzE4eA4H5sANJcsxxDkmvU",
     "type":"MD",
     "hide_input_from_viewers":false,
     "hide_output_from_viewers":false
    }
   }
  },
  {
   "cell_type":"markdown",
   "source":[
    "$$\n",
    "\\beta_hat = arg\\min_{\\beta_0, \\beta_1, \\beta_2, \\beta_3} \\sum_{i}{R_i(\\beta_0 + \\beta_1 \\cdot VolatileAcidity_i + \\beta_2 \\cdot FreeSulfurDioxide_i + \\beta_3 \\cdot Quality_i - pH_i)^2} \n",
    "$$\n",
    "Including the IPW: \n",
    "$$\n",
    " \\min_{\\beta_0, \\beta_1, \\beta_2, \\beta_3} \\sum_{i}{\\frac{R_i}{\\pi_i}\\cdot (\\beta_0 + \\beta_1 \\cdot VolatileAcidity_i + \\beta_2 \\cdot FreeSulfurDioxide_i + \\beta_3 \\cdot Quality_i - pH_i)^2}\n",
    " $$"
   ],
   "attachments":{
    
   },
   "metadata":{
    "datalore":{
     "node_id":"RVbGuCf4v4iTMLBRi9pDxI",
     "type":"MD",
     "hide_input_from_viewers":false,
     "hide_output_from_viewers":false
    }
   }
  },
  {
   "cell_type":"code",
   "source":[
    "propensity = logistic_model.predict_proba(full_samples[aux_vars])[:, 0]\n",
    "linear_model = LinearRegression(fit_intercept=False).fit(full_samples[aux_vars], full_samples['pH'], 1\/propensity)\n",
    "print(f\"Weights including the IPW: {[linear_model.coef_]}\")"
   ],
   "execution_count":254,
   "outputs":[
    {
     "name":"stdout",
     "text":[
      "Weights including the IPW: [array([ 2.98990759e+00,  2.45561072e-01, -6.49822854e-04,  2.73577736e-02])]\n"
     ],
     "output_type":"stream"
    }
   ],
   "metadata":{
    "datalore":{
     "node_id":"yOM14xJdyPzlQpmvlKgsGJ",
     "type":"CODE",
     "hide_input_from_viewers":false,
     "hide_output_from_viewers":false
    }
   }
  },
  {
   "cell_type":"markdown",
   "source":[
    "### (g)"
   ],
   "attachments":{
    
   },
   "metadata":{
    "datalore":{
     "node_id":"ZynLKm1qIlqnR2me8Bt5jP",
     "type":"MD",
     "hide_input_from_viewers":false,
     "hide_output_from_viewers":false
    }
   }
  },
  {
   "cell_type":"code",
   "source":[
    "B = 400\n",
    "betas = np.zeros((B, 4))\n",
    "n = full_samples.shape[0]\n",
    "\n",
    "for i in range(B):\n",
    "    boot_samples = full_samples.sample(n, replace=True, random_state=seed+i, ignore_index=True)\n",
    "    propensity = logistic_model.predict_proba(boot_samples[aux_vars])[:, 0]\n",
    "    boot_linear_model = LinearRegression(fit_intercept=False).fit(boot_samples[aux_vars], boot_samples['pH'], 1\/propensity)\n",
    "    betas[i] = boot_linear_model.coef_"
   ],
   "execution_count":255,
   "outputs":[
    
   ],
   "metadata":{
    "datalore":{
     "node_id":"WtMxnCPvcF1NDKvrDAWSSU",
     "type":"CODE",
     "hide_input_from_viewers":false,
     "hide_output_from_viewers":false
    }
   }
  },
  {
   "cell_type":"code",
   "source":[
    "for i, col in enumerate(aux_vars):\n",
    "    low = round(np.quantile(betas[:, i], 0.025, axis=0), 6)\n",
    "    high = round(np.quantile(betas[:, i], 0.975, axis=0), 6)\n",
    "    print(f\"Confidence interval for {col}: {[low, high]}\")"
   ],
   "execution_count":256,
   "outputs":[
    {
     "name":"stdout",
     "text":[
      "Confidence interval for Intercept: [2.874628, 3.105601]\n",
      "Confidence interval for volatile acidity: [0.16409, 0.316068]\n",
      "Confidence interval for free sulfur dioxide: [-0.001428, 3.6e-05]\n",
      "Confidence interval for quality: [0.011654, 0.044284]\n"
     ],
     "output_type":"stream"
    }
   ],
   "metadata":{
    "datalore":{
     "node_id":"coSjZgtBhYzyAoggLfZ4WZ",
     "type":"CODE",
     "hide_input_from_viewers":false,
     "hide_output_from_viewers":false
    }
   }
  },
  {
   "cell_type":"markdown",
   "source":[
    "### (h.1)"
   ],
   "attachments":{
    
   },
   "metadata":{
    "datalore":{
     "node_id":"yRbIu8mX6VQm4YvmeddWO6",
     "type":"MD",
     "hide_input_from_viewers":false,
     "hide_output_from_viewers":false
    }
   }
  },
  {
   "cell_type":"markdown",
   "source":[
    "It is easy to see that estimation using IPW yields practically identical results to the estimation on the entire dataset (without missing values), which means that the chosen explanatory variables contain a lot of information about the chosen response variable."
   ],
   "attachments":{
    
   },
   "metadata":{
    "datalore":{
     "node_id":"pCn3TOObKRplmGLaWXBvy4",
     "type":"MD",
     "hide_input_from_viewers":false,
     "hide_output_from_viewers":false
    }
   }
  },
  {
   "cell_type":"markdown",
   "source":[
    "### (h.2)"
   ],
   "attachments":{
    
   },
   "metadata":{
    "datalore":{
     "node_id":"rCHKqnGwiYfbsA1QUasD5P",
     "type":"MD",
     "hide_input_from_viewers":false,
     "hide_output_from_viewers":false
    }
   }
  },
  {
   "cell_type":"code",
   "source":[
    "for i, col in enumerate(aux_vars):\n",
    "    low = np.quantile(betas[:, i], 0.025, axis=0)\n",
    "    high = np.quantile(betas[:, i], 0.975, axis=0)\n",
    "    plt.boxplot((low, high), labels=[col])\n",
    "    plt.show()"
   ],
   "execution_count":257,
   "outputs":[
    {
     "data":{
      "image\/png":"[encoded data removed]"
     },
     "metadata":{
      "image\/png":{
       
      }
     },
     "output_type":"display_data"
    },
    {
     "data":{
      "image\/png":"[encoded data removed]"
     },
     "metadata":{
      "image\/png":{
       
      }
     },
     "output_type":"display_data"
    },
    {
     "data":{
      "image\/png":"[encoded data removed]"
     },
     "metadata":{
      "image\/png":{
       
      }
     },
     "output_type":"display_data"
    },
    {
     "data":{
      "image\/png":"[encoded data removed]"
     },
     "metadata":{
      "image\/png":{
       
      }
     },
     "output_type":"display_data"
    }
   ],
   "metadata":{
    "datalore":{
     "node_id":"ebbm3eHy6cmDmW3c9F4pqM",
     "type":"CODE",
     "hide_input_from_viewers":false,
     "hide_output_from_viewers":false
    }
   }
  }
 ],
 "metadata":{
  "kernelspec":{
   "display_name":"Python",
   "language":"python",
   "name":"python"
  },
  "datalore":{
   "version":1,
   "computation_mode":"JUPYTER",
   "package_manager":"pip",
   "base_environment":"default",
   "packages":[
    
   ]
  }
 },
 "nbformat":4,
 "nbformat_minor":4
}