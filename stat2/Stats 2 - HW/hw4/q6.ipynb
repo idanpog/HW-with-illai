{
 "cells":[
  {
   "cell_type":"code",
   "source":[
    "from sklearn.linear_model import LogisticRegression\n",
    "import pandas as pd\n",
    "import numpy as np\n",
    "from scipy.stats import norm"
   ],
   "execution_count":11,
   "outputs":[
    
   ],
   "metadata":{
    "datalore":{
     "node_id":"NH6AtAQdzhtz8M06xeNcaH",
     "type":"CODE",
     "hide_input_from_viewers":false,
     "hide_output_from_viewers":false
    }
   }
  },
  {
   "cell_type":"markdown",
   "source":[
    "# A."
   ],
   "attachments":{
    
   },
   "metadata":{
    "datalore":{
     "node_id":"o26N7fbtpmzOAwkrEdzriv",
     "type":"MD",
     "hide_input_from_viewers":false,
     "hide_output_from_viewers":false
    }
   }
  },
  {
   "cell_type":"markdown",
   "source":[
    "$ \\pi_i = \\pi (\\beta X_i) = \\pi(\\beta_0 + \\beta_{{alcohol}_i}*X_{{alcohol}_i} + \\beta_{{BMI}_i} X_{{BMI}_i} + \\beta_{{age}_i}  X_{{age}_i}$ "
   ],
   "attachments":{
    
   },
   "metadata":{
    "datalore":{
     "node_id":"mxQA02PJIuIecaeetAVxaU",
     "type":"MD",
     "hide_input_from_viewers":false,
     "hide_output_from_viewers":false
    }
   }
  },
  {
   "cell_type":"markdown",
   "source":[
    
   ],
   "attachments":{
    
   },
   "metadata":{
    "datalore":{
     "node_id":"7Fcu4d3eHfZd4gLvVR15H5",
     "type":"MD",
     "hide_input_from_viewers":false,
     "hide_output_from_viewers":false
    }
   }
  },
  {
   "cell_type":"markdown",
   "source":[
    "# B."
   ],
   "attachments":{
    
   },
   "metadata":{
    "datalore":{
     "node_id":"5NohvnjVO6SElK7RrrxyrM",
     "type":"MD",
     "hide_input_from_viewers":false,
     "hide_output_from_viewers":false
    }
   }
  },
  {
   "cell_type":"code",
   "source":[
    "#load the data\n",
    "df = pd.read_csv(\"\/data\/workspace_files\/ex4.csv\")\n",
    "X = df[[\"alcohol\", \"BMI\", \"age\"]]\n",
    "X.insert(0, 'one', 1, True)\n",
    "y = df[\"chd\"]"
   ],
   "execution_count":3,
   "outputs":[
    
   ],
   "metadata":{
    "datalore":{
     "node_id":"tV8K6ZwB0187vdWU5GEZbL",
     "type":"CODE",
     "hide_input_from_viewers":false,
     "hide_output_from_viewers":false
    }
   }
  },
  {
   "cell_type":"code",
   "source":[
    "reg = LogisticRegression(penalty=\"none\", fit_intercept=False).fit(X, y)\n",
    "beta_star_hat = reg.coef_[0]\n",
    "a= [print(f\"the beta_{x[0]} is {x[1]}\") for x in zip([\"zero\", \"alcohol\", \"BMI\", \"age\"], beta_star_hat)]"
   ],
   "execution_count":4,
   "outputs":[
    {
     "name":"stdout",
     "text":[
      "the beta_zero is -9.906057116302838\n",
      "the beta_alcohol is 0.019612208107966704\n",
      "the beta_BMI is -0.021686645217299128\n",
      "the beta_age is 0.20531261330705375\n"
     ],
     "output_type":"stream"
    }
   ],
   "metadata":{
    "datalore":{
     "node_id":"2nFDbixh1vWSW6LQCIW0fN",
     "type":"CODE",
     "hide_input_from_viewers":false,
     "hide_output_from_viewers":false
    }
   }
  },
  {
   "cell_type":"markdown",
   "source":[
    "# C."
   ],
   "attachments":{
    
   },
   "metadata":{
    "datalore":{
     "node_id":"Me0E0CQjBzAEvGM0AlTcLB",
     "type":"MD",
     "hide_input_from_viewers":false,
     "hide_output_from_viewers":false
    }
   }
  },
  {
   "cell_type":"code",
   "source":[
    "all_log_probs = reg.predict_log_proba(X)\n",
    "sum_log_probs = sum([all_log_probs[i][yi] for i, yi in enumerate(y)])\n",
    "print(f\"the log likelyhood is {sum_log_probs}\")"
   ],
   "execution_count":5,
   "outputs":[
    {
     "name":"stdout",
     "text":[
      "the log likelyhood is -6.827115831144858\n"
     ],
     "output_type":"stream"
    }
   ],
   "metadata":{
    "datalore":{
     "node_id":"XMi7AphfHsqgvDlMt3fRZq",
     "type":"CODE",
     "hide_input_from_viewers":false,
     "hide_output_from_viewers":false
    }
   }
  },
  {
   "cell_type":"markdown",
   "source":[
    "# D."
   ],
   "attachments":{
    
   },
   "metadata":{
    "datalore":{
     "node_id":"WuvDCokTcuKnOoCEepfONJ",
     "type":"MD",
     "hide_input_from_viewers":false,
     "hide_output_from_viewers":false
    }
   }
  },
  {
   "cell_type":"code",
   "source":[
    "all_probs = reg.predict_proba(X)\n",
    "thing = []\n",
    "for p_1, p_2 in all_probs:\n",
    "    thing.append(p_1*p_2)\n",
    "V = np.diag(thing)\n",
    "var = np.linalg.inv(X.T@V@X)\n",
    " \n",
    "print(f\"The variance is {var}\")"
   ],
   "execution_count":6,
   "outputs":[
    {
     "name":"stdout",
     "text":[
      "The variance is [[ 5.87559147e+01 -2.59985608e-02 -1.17187406e+00 -5.28539086e-01]\n",
      " [-2.59985608e-02  7.44952162e-04  7.03496142e-04 -1.78907336e-04]\n",
      " [-1.17187406e+00  7.03496142e-04  5.35554305e-02 -5.50322653e-03]\n",
      " [-5.28539086e-01 -1.78907336e-04 -5.50322653e-03  1.35966443e-02]]\n"
     ],
     "output_type":"stream"
    }
   ],
   "metadata":{
    "datalore":{
     "node_id":"8O07PonhqEsMnBKm05XoND",
     "type":"CODE",
     "hide_input_from_viewers":false,
     "hide_output_from_viewers":false
    }
   }
  },
  {
   "cell_type":"markdown",
   "source":[
    "# E."
   ],
   "attachments":{
    
   },
   "metadata":{
    "datalore":{
     "node_id":"9dpb9h9Nwhwif5zV1LesG7",
     "type":"MD",
     "hide_input_from_viewers":false,
     "hide_output_from_viewers":false
    }
   }
  },
  {
   "cell_type":"code",
   "source":[
    "X_sample = np.array([1, 8, 27,50])\n",
    "\n",
    "logit = X_sample@np.array(beta_star_hat).T\n",
    "p = np.exp(logit)\/(1+np.exp(logit))"
   ],
   "execution_count":25,
   "outputs":[
    {
     "name":"stdout",
     "text":[
      "0.48273980924207194\n"
     ],
     "output_type":"stream"
    }
   ],
   "metadata":{
    "datalore":{
     "node_id":"ysIKLC6pUMOxjNc5n9pLm0",
     "type":"CODE",
     "hide_input_from_viewers":false,
     "hide_output_from_viewers":false
    }
   }
  },
  {
   "cell_type":"code",
   "source":[
    "se = (X_sample @ var @ X_sample)**0.5\n",
    "z_alpha = norm.ppf(0.975)\n",
    "almost_ci = [p-se*z_alpha, p+se*z_alpha]\n",
    "ci = [1\/(1+np.exp(-x)) for x in almost_ci]\n",
    "print(se)\n",
    "print(f\"the confindence interval is {ci}\")"
   ],
   "execution_count":27,
   "outputs":[
    {
     "name":"stdout",
     "text":[
      "0.7668761040764567\n",
      "the confindence interval is [0.26496707223277977, 0.8792969588274144]\n"
     ],
     "output_type":"stream"
    }
   ],
   "metadata":{
    "datalore":{
     "node_id":"Y0tbczBWocSvdsJQXkyCJ1",
     "type":"CODE",
     "hide_input_from_viewers":false,
     "hide_output_from_viewers":false
    }
   }
  }
 ],
 "metadata":{
  "kernelspec":{
   "display_name":"Python",
   "language":"python",
   "name":"python"
  },
  "datalore":{
   "version":1,
   "computation_mode":"JUPYTER",
   "package_manager":"pip",
   "base_environment":"default",
   "packages":[
    
   ]
  }
 },
 "nbformat":4,
 "nbformat_minor":4
}