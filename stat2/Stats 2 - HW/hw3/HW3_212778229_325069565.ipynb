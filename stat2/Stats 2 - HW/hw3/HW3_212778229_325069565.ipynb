{
 "cells":[
  {
   "cell_type":"code",
   "source":[
    "import pandas as pd\n",
    "import numpy as np\n",
    "from scipy.stats import f"
   ],
   "execution_count":94,
   "outputs":[
    
   ],
   "metadata":{
    "datalore":{
     "node_id":"j9AvV31KiLUynzdBTgPgA9",
     "type":"CODE",
     "hide_input_from_viewers":true,
     "hide_output_from_viewers":true
    }
   }
  },
  {
   "cell_type":"markdown",
   "source":[
    "# Question 4"
   ],
   "attachments":{
    
   },
   "metadata":{
    "datalore":{
     "node_id":"vkurgXRgmGrp7HnkpGmksM",
     "type":"MD",
     "hide_input_from_viewers":true,
     "hide_output_from_viewers":true
    }
   }
  },
  {
   "cell_type":"markdown",
   "source":[
    "## a."
   ],
   "attachments":{
    
   },
   "metadata":{
    "datalore":{
     "node_id":"NJmfOIqEtP8TKXB54YyI5p",
     "type":"MD",
     "hide_input_from_viewers":true,
     "hide_output_from_viewers":true
    }
   }
  },
  {
   "cell_type":"markdown",
   "source":[
    "the exact model we assume is $Y=\\beta_0+\\beta_2X_2+\\beta_3X_3+\\beta_4X_4+\\beta_5X_5+\\epsilon$"
   ],
   "attachments":{
    
   },
   "metadata":{
    "datalore":{
     "node_id":"jeQnrr3ozwpuAYSmDkJYJ8",
     "type":"MD",
     "hide_input_from_viewers":true,
     "hide_output_from_viewers":true
    }
   }
  },
  {
   "cell_type":"code",
   "source":[
    "df = pd.read_csv(\"ex3.csv\")\n",
    "X = df[[\"x2\",\"x3\",\"x4\", \"x5\"]].to_numpy()\n",
    "X = np.c_[np.ones(X.shape[0]), X]\n",
    "y = df[[\"y\"]].to_numpy()\n",
    "beta_star =np.linalg.inv(X.T@X)@X.T@y\n",
    "print(f\"the beta star coeficiants are {beta_star.squeeze()}\")"
   ],
   "execution_count":95,
   "outputs":[
    {
     "name":"stdout",
     "text":[
      "the beta star coeficiants are [ 7.45780659 -0.0297028   0.52051008 -0.10180238 -2.1605807 ]\n"
     ],
     "output_type":"stream"
    }
   ],
   "metadata":{
    "datalore":{
     "node_id":"5Z9DEUmlCMXc3KcpafCK48",
     "type":"CODE",
     "hide_input_from_viewers":true,
     "hide_output_from_viewers":true
    }
   }
  },
  {
   "cell_type":"markdown",
   "source":[
    "## b."
   ],
   "attachments":{
    
   },
   "metadata":{
    "datalore":{
     "node_id":"KOWhWtKUBVjW4DaCogRwjn",
     "type":"MD",
     "hide_input_from_viewers":true,
     "hide_output_from_viewers":true
    }
   }
  },
  {
   "cell_type":"code",
   "source":[
    "\n",
    "y_hat = X@beta_star.squeeze()\n",
    "p = X.shape[1]\n",
    "n = y.shape[0]\n",
    "e = y.squeeze()- y_hat\n",
    "var_hat = e.T@e\/(n-p)\n",
    "var_hat"
   ],
   "execution_count":96,
   "outputs":[
    {
     "data":{
      "text\/plain":[
       "0.7792240642000448"
      ]
     },
     "metadata":{
      
     },
     "output_type":"display_data"
    }
   ],
   "metadata":{
    "datalore":{
     "node_id":"H7axKjckOTMd3XKAuoN8Yv",
     "type":"CODE",
     "hide_input_from_viewers":true,
     "hide_output_from_viewers":true
    }
   }
  },
  {
   "cell_type":"markdown",
   "source":[
    "## c."
   ],
   "attachments":{
    
   },
   "metadata":{
    "datalore":{
     "node_id":"B5IwwA41vbGpV9vQEOOes4",
     "type":"MD",
     "hide_input_from_viewers":true,
     "hide_output_from_viewers":true
    }
   }
  },
  {
   "cell_type":"code",
   "source":[
    "\n",
    "SoS_res = (y.squeeze() - y_hat).T@(y.squeeze() - y_hat)\n",
    "SoS_T = (y.squeeze()-np.ones(n)*np.mean(y)).T@(y.squeeze()-np.ones(n)*np.mean(y))\n",
    "SoS_R = SoS_T - SoS_res\n",
    "print(f\"{SoS_res=}\\t {SoS_T=}\\t {SoS_R=}\")"
   ],
   "execution_count":97,
   "outputs":[
    {
     "name":"stdout",
     "text":[
      "SoS_res=10.909136898800627\t SoS_T=33.22105263157895\t SoS_R=22.311915732778324\n"
     ],
     "output_type":"stream"
    }
   ],
   "metadata":{
    "datalore":{
     "node_id":"LSpoemLPOjyXXAk1Gl9UHG",
     "type":"CODE",
     "hide_input_from_viewers":true,
     "hide_output_from_viewers":true
    }
   }
  },
  {
   "cell_type":"code",
   "source":[
    "df_res = p-1\n",
    "df_T = n-p\n",
    "df_R = n-1\n",
    "print(f\"{df_res=}\\t {df_T=}\\t {df_R=}\")"
   ],
   "execution_count":98,
   "outputs":[
    {
     "name":"stdout",
     "text":[
      "df_res=4\t df_T=14\t df_R=18\n"
     ],
     "output_type":"stream"
    }
   ],
   "metadata":{
    "datalore":{
     "node_id":"pAOuICSU9Qc29buGa0ZzkA",
     "type":"CODE",
     "hide_input_from_viewers":true,
     "hide_output_from_viewers":true
    }
   }
  },
  {
   "cell_type":"code",
   "source":[
    "MS_R = SoS_R\/(p-1)\n",
    "MS_res = SoS_res\/(n-p)\n",
    "MS_T = SoS_T\/(n-1)\n",
    "print(f\"{MS_res=}\\t {MS_T=}\\t {MS_R=}\")"
   ],
   "execution_count":99,
   "outputs":[
    {
     "name":"stdout",
     "text":[
      "MS_res=0.7792240642000448\t MS_T=1.8456140350877195\t MS_R=5.577978933194581\n"
     ],
     "output_type":"stream"
    }
   ],
   "metadata":{
    "datalore":{
     "node_id":"gUoH1tHJmgzYsH0A0Rv2lB",
     "type":"CODE",
     "hide_input_from_viewers":true,
     "hide_output_from_viewers":true
    }
   }
  },
  {
   "cell_type":"code",
   "source":[
    "F = MS_R\/MS_res\n",
    "pv = 1 - f(p-1, n-p).cdf(F)\n",
    "print(f\"{F=}, {pv=}\")"
   ],
   "execution_count":100,
   "outputs":[
    {
     "name":"stdout",
     "text":[
      "F=7.158376119866064, pv=0.0023475553240575042\n"
     ],
     "output_type":"stream"
    }
   ],
   "metadata":{
    "datalore":{
     "node_id":"DRDx9aIujgCbJlGa6eUCca",
     "type":"CODE",
     "hide_input_from_viewers":true,
     "hide_output_from_viewers":true
    }
   }
  },
  {
   "cell_type":"markdown",
   "source":[
    "## d."
   ],
   "attachments":{
    
   },
   "metadata":{
    "datalore":{
     "node_id":"id9G4ygkjHiC8dD48zEddW",
     "type":"MD",
     "hide_input_from_viewers":true,
     "hide_output_from_viewers":true
    }
   }
  },
  {
   "cell_type":"code",
   "source":[
    "R2 = SoS_R \/ SoS_T\n",
    "R_adj = (1- ((n-1)\/(n-p)) * (1-R2))\n",
    "R_adj = 1- MS_res\/MS_T\n",
    "\n",
    "print(f\"{R2=}, {R_adj=}\")"
   ],
   "execution_count":101,
   "outputs":[
    {
     "name":"stdout",
     "text":[
      "R2=0.6716197701565084, R_adj=0.5777968473440822\n"
     ],
     "output_type":"stream"
    }
   ],
   "metadata":{
    "datalore":{
     "node_id":"2AV0LRRA7pT57jdSeaVfon",
     "type":"CODE",
     "hide_input_from_viewers":true,
     "hide_output_from_viewers":true
    }
   }
  },
  {
   "cell_type":"markdown",
   "source":[
    "## e."
   ],
   "attachments":{
    
   },
   "metadata":{
    "datalore":{
     "node_id":"Q2RlmZw1SHpwqmRDGYqLlp",
     "type":"MD",
     "hide_input_from_viewers":true,
     "hide_output_from_viewers":true
    }
   }
  },
  {
   "cell_type":"code",
   "source":[
    "x = np.array([1,20,30,90,2])\n",
    "y = beta_star.squeeze()@x.T\n",
    "\n",
    "print(f\"{y=}\")"
   ],
   "execution_count":102,
   "outputs":[
    {
     "name":"stdout",
     "text":[
      "y=8.99567772483296\n"
     ],
     "output_type":"stream"
    }
   ],
   "metadata":{
    "datalore":{
     "node_id":"GsXvLlkPLbNotCZW2CQGdr",
     "type":"CODE",
     "hide_input_from_viewers":true,
     "hide_output_from_viewers":true
    }
   }
  },
  {
   "cell_type":"markdown",
   "source":[
    "## f."
   ],
   "attachments":{
    
   },
   "metadata":{
    "datalore":{
     "node_id":"gtlgrKICpLOHWIdw57oi0k",
     "type":"MD",
     "hide_input_from_viewers":true,
     "hide_output_from_viewers":true
    }
   }
  },
  {
   "cell_type":"code",
   "source":[
    "se_hat = np.sqrt(var_hat * x.T @ np.linalg.inv(X.T @ X) @ x)\n",
    "print(f\"confidence interval at 95% is [{y - 2 * se_hat}, {y + 2 * se_hat}]\")"
   ],
   "execution_count":103,
   "outputs":[
    {
     "name":"stdout",
     "text":[
      "confidence interval at 95% is [8.050787013415139, 9.940568436250782]\n"
     ],
     "output_type":"stream"
    }
   ],
   "metadata":{
    "datalore":{
     "node_id":"ndrUJDCBqizmH7K3MqaUVb",
     "type":"CODE",
     "hide_input_from_viewers":true,
     "hide_output_from_viewers":true
    }
   }
  },
  {
   "cell_type":"markdown",
   "source":[
    "## g."
   ],
   "attachments":{
    
   },
   "metadata":{
    "datalore":{
     "node_id":"5o6AJbItBXcDZFMSzON6r3",
     "type":"MD",
     "hide_input_from_viewers":true,
     "hide_output_from_viewers":true
    }
   }
  },
  {
   "cell_type":"code",
   "source":[
    "print(f\"the confidence interval is [{y - 2 * np.sqrt(se_hat ** 2 + np.sqrt(var_hat))}, {y + 2 * np.sqrt(se_hat ** 2 + np.sqrt(var_hat))}]\")"
   ],
   "execution_count":104,
   "outputs":[
    {
     "name":"stdout",
     "text":[
      "the confidence interval is [6.892402845682218, 11.098952603983703]\n"
     ],
     "output_type":"stream"
    }
   ],
   "metadata":{
    "datalore":{
     "node_id":"hE5PpMyZvil2jT1AASM1qx",
     "type":"CODE",
     "hide_input_from_viewers":true,
     "hide_output_from_viewers":true
    }
   }
  },
  {
   "cell_type":"markdown",
   "source":[
    "# Question 5"
   ],
   "attachments":{
    
   },
   "metadata":{
    "datalore":{
     "node_id":"zz9iSNhlqTIKhEnI0vnSMC",
     "type":"MD",
     "hide_input_from_viewers":true,
     "hide_output_from_viewers":true
    }
   }
  },
  {
   "cell_type":"markdown",
   "source":[
    "## a."
   ],
   "attachments":{
    
   },
   "metadata":{
    "datalore":{
     "node_id":"9TGLLze4mghToNZCCJB9Sj",
     "type":"MD",
     "hide_input_from_viewers":true,
     "hide_output_from_viewers":true
    }
   }
  },
  {
   "cell_type":"code",
   "source":[
    "best_model = (0, \"\")\n",
    "df = pd.read_csv(\"ex3.csv\")\n",
    "for model_params in [[\"x2\",\"x3\",\"x4\"], [\"x2\",\"x3\",\"x5\"], [\"x2\",\"x5\",\"x4\"], sorted([\"x5\",\"x3\",\"x4\"])]:\n",
    "    X = df[model_params].to_numpy()\n",
    "    X = np.c_[np.ones(X.shape[0]), X]\n",
    "    y = df[[\"y\"]].to_numpy()\n",
    "    beta_star2 =np.linalg.inv(X.T@X)@X.T@y\n",
    "\n",
    "    y_hat = X@beta_star2.squeeze()\n",
    "    p_new = X.shape[1]\n",
    "    n_new = y.shape[0]\n",
    "    e_new = y.squeeze()- y_hat\n",
    "    var_hat = e_new.T@e_new\/(n_new-p_new)\n",
    "\n",
    "    SoS_res_new = (y.squeeze() - y_hat).T@(y.squeeze() - y_hat)\n",
    "    SoS_T_new = (y.squeeze()-np.ones(n)*np.mean(y)).T@(y.squeeze()-np.ones(n)*np.mean(y))\n",
    "    SoS_R_new = SoS_T_new - SoS_res_new\n",
    "    \n",
    "    beta_star2 = np.linalg.inv(X.T@X)@X.T@y\n",
    "\n",
    "    MS_R_new = SoS_R_new\/(p_new-1)\n",
    "    MS_res_new = SoS_res_new\/(n_new-p_new)\n",
    "    MS_T_new = SoS_T_new\/(n_new-1)\n",
    "\n",
    "    R2 = SoS_R_new \/ SoS_T_new\n",
    "    R_adj_new = 1-MS_res_new\/MS_T_new\n",
    "    \n",
    "    F_new = MS_R_new\/MS_res_new\n",
    "    pv_new = 1-f(p_new-1, n_new-p_new).cdf(F_new)\n",
    "\n",
    "    df_res_new = p_new-1\n",
    "    df_T_new = n_new-p_new\n",
    "    df_R_new = n_new-1\n",
    "\n",
    "    print(f\"{R2=}, f{model_params=}\")\n",
    "    if R2>best_model[0]:\n",
    "        best_model = (R2, model_params, beta_star2, (SoS_res_new, SoS_T_new, SoS_R_new),\n",
    "                      (MS_res_new, MS_R_new, MS_T_new), (F_new, pv_new), (df_res_new, df_T_new, df_R_new), R_adj_new)\n",
    "print(f\"the best model gave an r squared value of {best_model[0]} and the parameters used were {best_model[1]}\")"
   ],
   "execution_count":105,
   "outputs":[
    {
     "name":"stdout",
     "text":[
      "R2=0.6525266745447751, fmodel_params=['x2', 'x3', 'x4']\n",
      "R2=0.5863475902220495, fmodel_params=['x2', 'x3', 'x5']\n",
      "R2=0.3275448510986872, fmodel_params=['x2', 'x5', 'x4']\n",
      "R2=0.6713212019763024, fmodel_params=['x3', 'x4', 'x5']\n",
      "the best model gave an r squared value of 0.6713212019763024 and the parameters used were ['x3', 'x4', 'x5']\n"
     ],
     "output_type":"stream"
    }
   ],
   "metadata":{
    "datalore":{
     "node_id":"upiX5fCpu7GDquSpgEsZ0C",
     "type":"CODE",
     "hide_input_from_viewers":true,
     "hide_output_from_viewers":true
    }
   }
  },
  {
   "cell_type":"markdown",
   "source":[
    "the exact model we assume is $Y=\\beta_0+\\beta_3X_3+\\beta_4X_4+\\beta_5X_5+\\epsilon$"
   ],
   "attachments":{
    
   },
   "metadata":{
    "datalore":{
     "node_id":"70OdrC2pz4aA1V5WuWkcrV",
     "type":"MD",
     "hide_input_from_viewers":true,
     "hide_output_from_viewers":true
    }
   }
  },
  {
   "cell_type":"markdown",
   "source":[
    "## b."
   ],
   "attachments":{
    
   },
   "metadata":{
    "datalore":{
     "node_id":"eTTbcZxBFwG5ATpaB9IsN0",
     "type":"MD",
     "hide_input_from_viewers":true,
     "hide_output_from_viewers":true
    }
   }
  },
  {
   "cell_type":"code",
   "source":[
    "print(f\"the parameters for beta star is this model is {best_model[2].squeeze()}\")\n",
    "print(f\"compared to the parameters of the full model {beta_star.squeeze()}\")"
   ],
   "execution_count":106,
   "outputs":[
    {
     "name":"stdout",
     "text":[
      "the parameters for beta star is this model is [ 7.31012315  0.51888685 -0.10381156 -2.25553769]\n",
      "compared to the parameters of the full model [ 7.45780659 -0.0297028   0.52051008 -0.10180238 -2.1605807 ]\n"
     ],
     "output_type":"stream"
    }
   ],
   "metadata":{
    "datalore":{
     "node_id":"45MHHdcvbJzI6uQn6mWDF1",
     "type":"CODE",
     "hide_input_from_viewers":true,
     "hide_output_from_viewers":true
    }
   }
  },
  {
   "cell_type":"markdown",
   "source":[
    "it can be easily seen that both models have similar betas. if we ignore the second entry in the full model's we can see that the parameters are almost the same."
   ],
   "attachments":{
    
   },
   "metadata":{
    "datalore":{
     "node_id":"v32J2tANsYYFgF06LBpv0i",
     "type":"MD",
     "hide_input_from_viewers":true,
     "hide_output_from_viewers":true
    }
   }
  },
  {
   "cell_type":"markdown",
   "source":[
    "## c."
   ],
   "attachments":{
    
   },
   "metadata":{
    "datalore":{
     "node_id":"oNfDdxPlnByly7oM0aDBNc",
     "type":"MD",
     "hide_input_from_viewers":true,
     "hide_output_from_viewers":true
    }
   }
  },
  {
   "cell_type":"code",
   "source":[
    "SoS_res_new, SoS_T_new, SoS_R_new = best_model[3]\n",
    "print(f\"{SoS_res=}\\t {SoS_T=}\\t {SoS_R=}\")\n",
    "print(f\"{SoS_res_new=}\\t {SoS_T_new=}\\t {SoS_R_new=}\\n\")\n",
    "\n",
    "MS_res_new, MS_R_new, MS_T_new = best_model[4]\n",
    "print(f\"{MS_res=}\\t {MS_T=}\\t {MS_R=}\")\n",
    "print(f\"{MS_res_new=}\\t {MS_T_new=}\\t {MS_R_new=}\\n\")\n",
    "\n",
    "df_res_new, df_T_new, df_R_new = best_model[6]\n",
    "print(f\"{df_res=}\\t {df_T=}\\t {df_R=}\")\n",
    "print(f\"{df_res_new=}\\t {df_T_new=}\\t {df_R_new=}\\n\")\n",
    "\n",
    "F_new, pv_new = best_model[5]\n",
    "print(f\"{F=}\\t {pv=}\")\n",
    "print(f\"{F_new=}\\t {pv_new=}\")\n"
   ],
   "execution_count":107,
   "outputs":[
    {
     "name":"stdout",
     "text":[
      "SoS_res=10.909136898800627\t SoS_T=33.22105263157895\t SoS_R=22.311915732778324\n",
      "SoS_res_new=10.919055648029365\t SoS_T_new=33.22105263157895\t SoS_R_new=22.301996983549586\n",
      "\n",
      "MS_res=0.7792240642000448\t MS_T=1.8456140350877195\t MS_R=5.577978933194581\n",
      "MS_res_new=0.7279370432019577\t MS_T_new=1.8456140350877195\t MS_R_new=7.433998994516529\n",
      "\n",
      "df_res=4\t df_T=14\t df_R=18\n",
      "df_res_new=3\t df_T_new=15\t df_R_new=18\n",
      "\n",
      "F=7.158376119866064\t pv=0.0023475553240575042\n",
      "F_new=10.212420241476915\t pv_new=0.0006487416675347024\n"
     ],
     "output_type":"stream"
    }
   ],
   "metadata":{
    "datalore":{
     "node_id":"4TZyaX68zsQp5DZefSqfaK",
     "type":"CODE",
     "hide_input_from_viewers":true,
     "hide_output_from_viewers":true
    }
   }
  },
  {
   "cell_type":"markdown",
   "source":[
    "The values are very similar. as excpected because we've seen that the second parameter is almost redundent and doesn't affect eh model, so removing it shouldn't decrease performance by much"
   ],
   "attachments":{
    
   },
   "metadata":{
    "datalore":{
     "node_id":"asbSKPSldpkPU8t6JrZCYg",
     "type":"MD",
     "hide_input_from_viewers":true,
     "hide_output_from_viewers":true
    }
   }
  },
  {
   "cell_type":"markdown",
   "source":[
    "## d."
   ],
   "attachments":{
    
   },
   "metadata":{
    "datalore":{
     "node_id":"WNoocszVLYAyaZiOvdqgy3",
     "type":"MD",
     "hide_input_from_viewers":true,
     "hide_output_from_viewers":true
    }
   }
  },
  {
   "cell_type":"code",
   "source":[
    "R_adj_new = best_model[7]\n",
    "print(f\"{R_adj_new=} compared to {R_adj}\")"
   ],
   "execution_count":108,
   "outputs":[
    {
     "name":"stdout",
     "text":[
      "R_adj_new=0.6055854423715629 compared to 0.5777968473440822\n"
     ],
     "output_type":"stream"
    }
   ],
   "metadata":{
    "datalore":{
     "node_id":"gZ1J0hZoA6wqwmwhPP74n0",
     "type":"CODE",
     "hide_input_from_viewers":true,
     "hide_output_from_viewers":true
    }
   }
  },
  {
   "cell_type":"markdown",
   "source":[
    "we can the see that the new $R_(adj)$ is bigger for the new model"
   ],
   "attachments":{
    
   },
   "metadata":{
    "datalore":{
     "node_id":"wkRizrrwevAngSeko41ow8",
     "type":"MD",
     "hide_input_from_viewers":true,
     "hide_output_from_viewers":true
    }
   }
  },
  {
   "cell_type":"markdown",
   "source":[
    "# e."
   ],
   "attachments":{
    
   },
   "metadata":{
    "datalore":{
     "node_id":"bqqfpIFlqx6Yo9zeyJIyan",
     "type":"MD",
     "hide_input_from_viewers":true,
     "hide_output_from_viewers":true
    }
   }
  },
  {
   "cell_type":"markdown",
   "source":[
    "The model assumptions are that the data is linear with normal noise. \n",
    "and we can see tell that the assumptions aren't that far from reality because we still manage to get good R2 scores and our parameters seem to make sense.\n",
    "\n",
    "The assumptions hold the same as in the previous model because the redundant variable didn't affect much.\n",
    "thus the only difference is that in one model we assume that y is connected linearly to x2,x3,x4,x5 and in the other we assumed that it's connected only to x3,x4,x5 "
   ],
   "attachments":{
    
   },
   "metadata":{
    "datalore":{
     "node_id":"2tZW0vAKTW611Ip065AscP",
     "type":"MD",
     "hide_input_from_viewers":true,
     "hide_output_from_viewers":true
    }
   }
  }
 ],
 "metadata":{
  "kernelspec":{
   "display_name":"Python",
   "language":"python",
   "name":"python"
  },
  "datalore":{
   "version":1,
   "computation_mode":"JUPYTER",
   "package_manager":"pip",
   "base_environment":"default",
   "packages":[
    
   ]
  }
 },
 "nbformat":4,
 "nbformat_minor":4
}